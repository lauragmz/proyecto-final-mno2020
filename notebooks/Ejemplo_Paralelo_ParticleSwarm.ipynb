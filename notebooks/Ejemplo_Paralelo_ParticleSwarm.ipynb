{
 "cells": [
  {
   "cell_type": "markdown",
   "metadata": {},
   "source": [
    "### PARTICLE SWARM EN PARALELO (Prueba para 2 fuerzas de venta)\n",
    "\n",
    "\n",
    "En el proyecto que se está desarrollando, la idea de la paralelización del algoritmo es incluir ésta última en el cálculo de las rutas óptimas de todas las fuerzas de venta con que se cuenta.\n",
    "\n",
    "Como primera aproximación se llevará a cabo la paralelización considerando que se tienen únicamente dos fuerzas de ventas. Esto servirá como punto de partida para poder extender la idea al total de las fuerzas de venta."
   ]
  },
  {
   "cell_type": "code",
   "execution_count": 1,
   "metadata": {},
   "outputs": [],
   "source": [
    "import dask\n",
    "import time"
   ]
  },
  {
   "cell_type": "code",
   "execution_count": 2,
   "metadata": {},
   "outputs": [],
   "source": [
    "import sys\n",
    "sys.path.append('../')\n",
    "\n",
    "from src.models import particle_swarm as ps"
   ]
  },
  {
   "cell_type": "code",
   "execution_count": 3,
   "metadata": {},
   "outputs": [],
   "source": [
    "# Definición de dos grafos cerrados\n",
    "fza_venta1 = [[0, 1, 1],\n",
    "            [0, 2, 3],\n",
    "            [0, 3, 4],\n",
    "            [0, 4, 5],\n",
    "            [1, 2, 1],\n",
    "            [1, 3, 4],\n",
    "            [1, 4, 8],\n",
    "            [2, 3, 5],\n",
    "            [2, 4, 1],\n",
    "            [3, 4, 2],\n",
    "            ]\n",
    "\n",
    "fza_venta2 = [[0, 1, 1],\n",
    "            [0, 2, 3],\n",
    "            [0, 3, 4],\n",
    "            [0, 4, 5],\n",
    "            [1, 2, 1],\n",
    "            [1, 3, 4],\n",
    "            [1, 4, 8],\n",
    "            [2, 3, 5],\n",
    "            [2, 4, 1],\n",
    "            [3, 4, 2],\n",
    "            ]\n",
    "\n",
    "\n",
    "# Definición de hiperparámetros\n",
    "dict_Hiper = {'Iteraciones': 10,\n",
    "              'Particulas': 10,\n",
    "              'Alfa': .9,\n",
    "              'Beta': 1\n",
    "              }"
   ]
  },
  {
   "cell_type": "code",
   "execution_count": 4,
   "metadata": {},
   "outputs": [],
   "source": [
    "@dask.delayed\n",
    "def ejecucion_algoritmo(grafo,dict_Hiper):\n",
    "    '''\n",
    "    Función que ejecuta el algoritmo de particle swarm\n",
    "    Args:\n",
    "        grafo(lista): lista del grafo en donde cada elemento de la lista está formado a su vez por tres elementos:\n",
    "                        + nodo origen\n",
    "                        + nodo destino\n",
    "                        + distancia entre nodos\n",
    "        dict_Hiprer(dict): diccionario de los hiperparámetros del modelo en la siguiente estructura:\n",
    "                            {'Iteraciones': 10,\n",
    "                              'Particulas': 10,\n",
    "                              'Alfa': .9,\n",
    "                              'Beta': 1\n",
    "                              }\n",
    "    Return:\n",
    "        1\n",
    "        '''\n",
    "    time.sleep(1)\n",
    "    PS = ps.ParticleSwarm(grafo, dict_Hiper)\n",
    "    PS.Ejecutar()\n",
    "    print('Tiempo de ejecución: ', PS.nbr_TiempoEjec)\n",
    "    print('Mejor distancia encontrada: ', PS.nbr_MejorCosto)\n",
    "    print('MejorCamino: ', PS.lst_MejorCamino)\n",
    "    return 1"
   ]
  },
  {
   "cell_type": "code",
   "execution_count": 5,
   "metadata": {},
   "outputs": [],
   "source": [
    "@dask.delayed\n",
    "def ejecucion_doble(x,y):\n",
    "    '''\n",
    "    Función que permitirá ejecutar en paralelo dos funciones\n",
    "    Args:\n",
    "        x(fun): función\n",
    "        y(fun): función\n",
    "    Return:\n",
    "        2\n",
    "    '''\n",
    "    time.sleep(1)\n",
    "    return 2"
   ]
  },
  {
   "cell_type": "code",
   "execution_count": 6,
   "metadata": {},
   "outputs": [
    {
     "name": "stdout",
     "output_type": "stream",
     "text": [
      "CPU times: user 7.34 ms, sys: 0 ns, total: 7.34 ms\n",
      "Wall time: 15.8 ms\n"
     ]
    }
   ],
   "source": [
    "%%time\n",
    "\n",
    "# El cálculo del algoritmo particle swarm es almacenado en una variable para cada fza de venta\n",
    "ejecucion_fza_venta1 = ejecucion_algoritmo(fza_venta1,dict_Hiper)\n",
    "ejecucion_fza_venta2 = ejecucion_algoritmo(fza_venta2,dict_Hiper)"
   ]
  },
  {
   "cell_type": "code",
   "execution_count": 8,
   "metadata": {},
   "outputs": [
    {
     "name": "stdout",
     "output_type": "stream",
     "text": [
      "CPU times: user 0 ns, sys: 2.09 ms, total: 2.09 ms\n",
      "Wall time: 2.21 ms\n"
     ]
    }
   ],
   "source": [
    "%%time\n",
    "\n",
    "# Preparación de la ejecución en paralelo del algoritmo particle swarm para 2 fzas de venta\n",
    "z = ejecucion_doble(ejecucion_fza_venta1,ejecucion_fza_venta2)"
   ]
  },
  {
   "cell_type": "code",
   "execution_count": 9,
   "metadata": {},
   "outputs": [
    {
     "name": "stdout",
     "output_type": "stream",
     "text": [
      "Tiempo de ejecución:  0.010739564895629883\n",
      "Mejor distancia encontrada:  9\n",
      "Tiempo de ejecución:  0.010728120803833008\n",
      "Mejor distancia encontrada: MejorCamino:  9\n",
      "MejorCamino:  [1, 0, 3, 4, 2]\n",
      " [1, 0, 3, 4, 2]\n",
      "CPU times: user 53.2 ms, sys: 1.43 ms, total: 54.7 ms\n",
      "Wall time: 2.08 s\n"
     ]
    },
    {
     "data": {
      "text/plain": [
       "2"
      ]
     },
     "execution_count": 9,
     "metadata": {},
     "output_type": "execute_result"
    }
   ],
   "source": [
    "%%time\n",
    "\n",
    "# Ejecución en paralelo del algoritmo particle swarm para las dos fuerzas de venta\n",
    "z.compute()"
   ]
  }
 ],
 "metadata": {
  "kernelspec": {
   "display_name": "Python 3",
   "language": "python",
   "name": "python3"
  },
  "language_info": {
   "codemirror_mode": {
    "name": "ipython",
    "version": 3
   },
   "file_extension": ".py",
   "mimetype": "text/x-python",
   "name": "python",
   "nbconvert_exporter": "python",
   "pygments_lexer": "ipython3",
   "version": "3.7.3"
  }
 },
 "nbformat": 4,
 "nbformat_minor": 4
}
