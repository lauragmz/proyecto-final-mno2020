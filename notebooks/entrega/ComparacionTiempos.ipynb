{
 "cells": [
  {
   "cell_type": "markdown",
   "metadata": {},
   "source": [
    "## Comparación de Tiempos\n"
   ]
  },
  {
   "cell_type": "code",
   "execution_count": 1,
   "metadata": {},
   "outputs": [
    {
     "name": "stdout",
     "output_type": "stream",
     "text": [
      "Requirement already satisfied: dynaconf in /opt/conda/lib/python3.7/site-packages (2.2.3)\n",
      "Requirement already satisfied: click in /opt/conda/lib/python3.7/site-packages (from dynaconf) (7.1.1)\n",
      "Requirement already satisfied: python-box<4.0.0 in /opt/conda/lib/python3.7/site-packages (from dynaconf) (3.4.6)\n",
      "Requirement already satisfied: toml in /opt/conda/lib/python3.7/site-packages (from dynaconf) (0.10.1)\n",
      "Requirement already satisfied: python-dotenv in /opt/conda/lib/python3.7/site-packages (from dynaconf) (0.13.0)\n",
      "Requirement already satisfied: psycopg2-binary in /opt/conda/lib/python3.7/site-packages (2.8.5)\n",
      "Requirement already satisfied: simanneal in /opt/conda/lib/python3.7/site-packages (0.5.0)\n"
     ]
    }
   ],
   "source": [
    "!pip install dynaconf\n",
    "!pip install psycopg2-binary\n",
    "!pip install simanneal"
   ]
  },
  {
   "cell_type": "code",
   "execution_count": 16,
   "metadata": {},
   "outputs": [
    {
     "name": "stdout",
     "output_type": "stream",
     "text": [
      "The autoreload extension is already loaded. To reload it, use:\n",
      "  %reload_ext autoreload\n"
     ]
    }
   ],
   "source": [
    "# Librerías\n",
    "\n",
    "import pandas as pd\n",
    "import sys\n",
    "sys.path.append('../../')\n",
    "%load_ext autoreload\n",
    "%autoreload 2\n",
    "import time\n",
    "\n",
    "from src import Utileria as ut\n",
    "from src.models import particle_swarm as ps\n",
    "from src.models import simulated_annealing as sa"
   ]
  },
  {
   "cell_type": "markdown",
   "metadata": {},
   "source": [
    "## 6 nodos"
   ]
  },
  {
   "cell_type": "code",
   "execution_count": 18,
   "metadata": {},
   "outputs": [
    {
     "data": {
      "text/html": [
       "<div>\n",
       "<style scoped>\n",
       "    .dataframe tbody tr th:only-of-type {\n",
       "        vertical-align: middle;\n",
       "    }\n",
       "\n",
       "    .dataframe tbody tr th {\n",
       "        vertical-align: top;\n",
       "    }\n",
       "\n",
       "    .dataframe thead th {\n",
       "        text-align: right;\n",
       "    }\n",
       "</style>\n",
       "<table border=\"1\" class=\"dataframe\">\n",
       "  <thead>\n",
       "    <tr style=\"text-align: right;\">\n",
       "      <th></th>\n",
       "      <th>id_origen</th>\n",
       "      <th>id_destino</th>\n",
       "      <th>distancia</th>\n",
       "    </tr>\n",
       "  </thead>\n",
       "  <tbody>\n",
       "    <tr>\n",
       "      <th>0</th>\n",
       "      <td>11037</td>\n",
       "      <td>1001402004</td>\n",
       "      <td>0.267770992210818</td>\n",
       "    </tr>\n",
       "    <tr>\n",
       "      <th>1</th>\n",
       "      <td>11037</td>\n",
       "      <td>1006681965</td>\n",
       "      <td>0.3250713086280114</td>\n",
       "    </tr>\n",
       "    <tr>\n",
       "      <th>2</th>\n",
       "      <td>11037</td>\n",
       "      <td>1020053072</td>\n",
       "      <td>2.3599263518563016</td>\n",
       "    </tr>\n",
       "    <tr>\n",
       "      <th>3</th>\n",
       "      <td>11037</td>\n",
       "      <td>1020235635</td>\n",
       "      <td>1.2662382942527688</td>\n",
       "    </tr>\n",
       "    <tr>\n",
       "      <th>4</th>\n",
       "      <td>11037</td>\n",
       "      <td>1020402992</td>\n",
       "      <td>0.07674597387253217</td>\n",
       "    </tr>\n",
       "  </tbody>\n",
       "</table>\n",
       "</div>"
      ],
      "text/plain": [
       "  id_origen  id_destino            distancia\n",
       "0     11037  1001402004    0.267770992210818\n",
       "1     11037  1006681965   0.3250713086280114\n",
       "2     11037  1020053072   2.3599263518563016\n",
       "3     11037  1020235635   1.2662382942527688\n",
       "4     11037  1020402992  0.07674597387253217"
      ]
     },
     "execution_count": 18,
     "metadata": {},
     "output_type": "execute_result"
    }
   ],
   "source": [
    "# Se obtiene el dataframe que contiene el grafo de la fuerza de venta a evaluar:\n",
    "str_Query = 'select id_origen, id_destino, distancia from trabajo.grafos where id_fza_ventas={};'\n",
    "\n",
    "# En el query se especifica el id_fza_venta del cual se quiere obtener su grafo\n",
    "df_Grafo = ut.get_data(str_Query.format(80993))\n",
    "df_Grafo.head()"
   ]
  },
  {
   "cell_type": "code",
   "execution_count": 19,
   "metadata": {},
   "outputs": [
    {
     "name": "stdout",
     "output_type": "stream",
     "text": [
      "CPU times: user 1.14 s, sys: 2.28 ms, total: 1.14 s\n",
      "Wall time: 1.18 s\n"
     ]
    },
    {
     "data": {
      "text/plain": [
       "1.1711554527282715"
      ]
     },
     "execution_count": 19,
     "metadata": {},
     "output_type": "execute_result"
    }
   ],
   "source": [
    "%%time\n",
    "# Definición de hiperparámetros\n",
    "dict_Hiper = {'Iteraciones': 10,\n",
    "              'Particulas': 100,\n",
    "              'Alfa': 1,\n",
    "              'Beta': .5\n",
    "              }\n",
    "\n",
    "PS = ps.ParticleSwarm(df_Grafo,dict_Hiper)\n",
    "\n",
    "total_time = 0\n",
    "for i in range(100):\n",
    "    start = time.time()\n",
    "    PS.Ejecutar()\n",
    "    end = time.time()\n",
    "    \n",
    "    train_time = end - start\n",
    "    total_time += train_time\n",
    "    \n",
    "total_time "
   ]
  },
  {
   "cell_type": "code",
   "execution_count": 20,
   "metadata": {},
   "outputs": [
    {
     "name": "stderr",
     "output_type": "stream",
     "text": [
      " Temperature        Energy    Accept   Improve     Elapsed   Remaining\n",
      "     1.00000          5.66    60.00%    24.00%     0:00:00     0:00:00 Temperature        Energy    Accept   Improve     Elapsed   Remaining\n",
      "     1.00000          5.85    64.00%    22.00%     0:00:00     0:00:00 Temperature        Energy    Accept   Improve     Elapsed   Remaining\n",
      "     1.00000          6.34    74.00%    34.00%     0:00:01     0:00:00 Temperature        Energy    Accept   Improve     Elapsed   Remaining\n",
      "     1.00000          7.92    84.00%    30.00%     0:00:01     0:00:00 Temperature        Energy    Accept   Improve     Elapsed   Remaining\n",
      "     1.00000          7.90    76.00%    34.00%     0:00:01     0:00:00 Temperature        Energy    Accept   Improve     Elapsed   Remaining\n",
      "     1.00000          8.44    72.00%    22.00%     0:00:01     0:00:00 Temperature        Energy    Accept   Improve     Elapsed   Remaining\n",
      "     1.00000          5.70    68.00%    30.00%     0:00:00     0:00:00 Temperature        Energy    Accept   Improve     Elapsed   Remaining\n",
      "     1.00000          8.09    74.00%    24.00%     0:00:00     0:00:00 Temperature        Energy    Accept   Improve     Elapsed   Remaining\n",
      "     1.00000          7.52    70.00%    28.00%     0:00:00     0:00:00 Temperature        Energy    Accept   Improve     Elapsed   Remaining\n",
      "     1.00000          7.56    64.00%    18.00%     0:00:00     0:00:00 Temperature        Energy    Accept   Improve     Elapsed   Remaining\n",
      "     1.00000          6.20    70.00%    24.00%     0:00:00     0:00:00 Temperature        Energy    Accept   Improve     Elapsed   Remaining\n",
      "     1.00000          6.24    68.00%    14.00%     0:00:00     0:00:00 Temperature        Energy    Accept   Improve     Elapsed   Remaining\n",
      "     1.00000          5.77    72.00%    18.00%     0:00:00     0:00:00 Temperature        Energy    Accept   Improve     Elapsed   Remaining\n",
      "     1.00000          5.68    74.00%    28.00%     0:00:00     0:00:00 Temperature        Energy    Accept   Improve     Elapsed   Remaining\n",
      "     1.00000          5.60    68.00%    30.00%     0:00:00     0:00:00 Temperature        Energy    Accept   Improve     Elapsed   Remaining\n",
      "     1.00000          5.77    60.00%    22.00%     0:00:00     0:00:00 Temperature        Energy    Accept   Improve     Elapsed   Remaining\n",
      "     1.00000          5.85    82.00%    36.00%     0:00:00     0:00:00 Temperature        Energy    Accept   Improve     Elapsed   Remaining\n",
      "     1.00000          5.70    70.00%    20.00%     0:00:00     0:00:00 Temperature        Energy    Accept   Improve     Elapsed   Remaining\n",
      "     1.00000          8.03    84.00%    28.00%     0:00:00     0:00:00 Temperature        Energy    Accept   Improve     Elapsed   Remaining\n",
      "     1.00000          8.44    76.00%    32.00%     0:00:00     0:00:00 Temperature        Energy    Accept   Improve     Elapsed   Remaining\n",
      "     1.00000          5.77    68.00%    26.00%     0:00:00     0:00:00 Temperature        Energy    Accept   Improve     Elapsed   Remaining\n",
      "     1.00000          5.66    72.00%    34.00%     0:00:00     0:00:00 Temperature        Energy    Accept   Improve     Elapsed   Remaining\n",
      "     1.00000          5.66    76.00%    32.00%     0:00:00     0:00:00 Temperature        Energy    Accept   Improve     Elapsed   Remaining\n",
      "     1.00000          6.22    70.00%    24.00%     0:00:00     0:00:00 Temperature        Energy    Accept   Improve     Elapsed   Remaining\n",
      "     1.00000          8.19    82.00%    32.00%     0:00:00     0:00:00 Temperature        Energy    Accept   Improve     Elapsed   Remaining\n",
      "     1.00000          7.90    78.00%    30.00%     0:00:00     0:00:00 Temperature        Energy    Accept   Improve     Elapsed   Remaining\n",
      "     1.00000          7.80    72.00%    32.00%     0:00:00     0:00:00 Temperature        Energy    Accept   Improve     Elapsed   Remaining\n",
      "     1.00000          6.34    74.00%    32.00%     0:00:00     0:00:00 Temperature        Energy    Accept   Improve     Elapsed   Remaining\n",
      "     1.00000          5.68    74.00%    30.00%     0:00:00     0:00:00 Temperature        Energy    Accept   Improve     Elapsed   Remaining\n",
      "     1.00000          8.00    74.00%    30.00%     0:00:00     0:00:00 Temperature        Energy    Accept   Improve     Elapsed   Remaining\n",
      "     1.00000          5.86    66.00%    24.00%     0:00:00     0:00:00 Temperature        Energy    Accept   Improve     Elapsed   Remaining\n",
      "     1.00000          5.86    50.00%    20.00%     0:00:00     0:00:00 Temperature        Energy    Accept   Improve     Elapsed   Remaining\n",
      "     1.00000          7.54    76.00%    34.00%     0:00:00     0:00:00 Temperature        Energy    Accept   Improve     Elapsed   Remaining\n",
      "     1.00000          6.22    84.00%    36.00%     0:00:00     0:00:00 Temperature        Energy    Accept   Improve     Elapsed   Remaining\n",
      "     1.00000          5.60    72.00%    30.00%     0:00:00     0:00:00 Temperature        Energy    Accept   Improve     Elapsed   Remaining\n",
      "     1.00000          7.94    78.00%    26.00%     0:00:00     0:00:00 Temperature        Energy    Accept   Improve     Elapsed   Remaining\n",
      "     1.00000          5.70    68.00%    24.00%     0:00:00     0:00:00 Temperature        Energy    Accept   Improve     Elapsed   Remaining\n",
      "     1.00000          5.66    82.00%    36.00%     0:00:00     0:00:00 Temperature        Energy    Accept   Improve     Elapsed   Remaining\n",
      "     1.00000          7.99    66.00%    30.00%     0:00:00     0:00:00 Temperature        Energy    Accept   Improve     Elapsed   Remaining\n",
      "     1.00000          6.14    74.00%    30.00%     0:00:00     0:00:00 Temperature        Energy    Accept   Improve     Elapsed   Remaining\n",
      "     1.00000          5.70    80.00%    34.00%     0:00:00     0:00:00 Temperature        Energy    Accept   Improve     Elapsed   Remaining\n",
      "     1.00000          5.68    76.00%    32.00%     0:00:00     0:00:00 Temperature        Energy    Accept   Improve     Elapsed   Remaining\n",
      "     1.00000          6.14    70.00%    30.00%     0:00:00     0:00:00 Temperature        Energy    Accept   Improve     Elapsed   Remaining\n",
      "     1.00000          6.30    70.00%    22.00%     0:00:00     0:00:00 Temperature        Energy    Accept   Improve     Elapsed   Remaining\n",
      "     1.00000          5.70    66.00%    30.00%     0:00:00     0:00:00 Temperature        Energy    Accept   Improve     Elapsed   Remaining\n",
      "     1.00000          5.96    82.00%    28.00%     0:00:00     0:00:00 Temperature        Energy    Accept   Improve     Elapsed   Remaining\n",
      "     1.00000          5.70    76.00%    32.00%     0:00:00     0:00:00 Temperature        Energy    Accept   Improve     Elapsed   Remaining\n",
      "     1.00000          5.85    70.00%    22.00%     0:00:00     0:00:00 Temperature        Energy    Accept   Improve     Elapsed   Remaining\n",
      "     1.00000          6.23    84.00%    32.00%     0:00:00     0:00:00 Temperature        Energy    Accept   Improve     Elapsed   Remaining\n",
      "     1.00000          5.70    58.00%    20.00%     0:00:00     0:00:00 Temperature        Energy    Accept   Improve     Elapsed   Remaining\n",
      "     1.00000          8.07    66.00%    20.00%     0:00:00     0:00:00 Temperature        Energy    Accept   Improve     Elapsed   Remaining\n",
      "     1.00000          7.88    78.00%    36.00%     0:00:00     0:00:00 Temperature        Energy    Accept   Improve     Elapsed   Remaining\n",
      "     1.00000          6.25    84.00%    28.00%     0:00:00     0:00:00 Temperature        Energy    Accept   Improve     Elapsed   Remaining\n",
      "     1.00000          5.66    74.00%    24.00%     0:00:00     0:00:00 Temperature        Energy    Accept   Improve     Elapsed   Remaining\n",
      "     1.00000          5.66    66.00%    24.00%     0:00:00     0:00:00 Temperature        Energy    Accept   Improve     Elapsed   Remaining\n",
      "     1.00000          6.34    74.00%    24.00%     0:00:00     0:00:00 Temperature        Energy    Accept   Improve     Elapsed   Remaining\n",
      "     1.00000          5.70    80.00%    34.00%     0:00:00     0:00:00 Temperature        Energy    Accept   Improve     Elapsed   Remaining\n",
      "     1.00000          5.86    66.00%    22.00%     0:00:00     0:00:00 Temperature        Energy    Accept   Improve     Elapsed   Remaining\n"
     ]
    },
    {
     "name": "stderr",
     "output_type": "stream",
     "text": [
      "     1.00000          5.86    64.00%    24.00%     0:00:00     0:00:00 Temperature        Energy    Accept   Improve     Elapsed   Remaining\n",
      "     1.00000          6.23    80.00%    36.00%     0:00:00     0:00:00 Temperature        Energy    Accept   Improve     Elapsed   Remaining\n",
      "     1.00000          6.25    76.00%    32.00%     0:00:00     0:00:00 Temperature        Energy    Accept   Improve     Elapsed   Remaining\n",
      "     1.00000          5.60    86.00%    40.00%     0:00:00     0:00:00 Temperature        Energy    Accept   Improve     Elapsed   Remaining\n",
      "     1.00000          5.70    72.00%    28.00%     0:00:00     0:00:00 Temperature        Energy    Accept   Improve     Elapsed   Remaining\n",
      "     1.00000          5.70    66.00%    30.00%     0:00:00     0:00:00 Temperature        Energy    Accept   Improve     Elapsed   Remaining\n",
      "     1.00000          6.20    74.00%    26.00%     0:00:00     0:00:00 Temperature        Energy    Accept   Improve     Elapsed   Remaining\n",
      "     1.00000          5.68    72.00%    26.00%     0:00:00     0:00:00 Temperature        Energy    Accept   Improve     Elapsed   Remaining\n",
      "     1.00000          5.70    76.00%    30.00%     0:00:00     0:00:00 Temperature        Energy    Accept   Improve     Elapsed   Remaining\n",
      "     1.00000          5.96    82.00%    34.00%     0:00:00     0:00:00 Temperature        Energy    Accept   Improve     Elapsed   Remaining\n",
      "     1.00000          6.11    66.00%    26.00%     0:00:00     0:00:00 Temperature        Energy    Accept   Improve     Elapsed   Remaining\n",
      "     1.00000          6.30    78.00%    32.00%     0:00:00     0:00:00 Temperature        Energy    Accept   Improve     Elapsed   Remaining\n",
      "     1.00000          6.23    74.00%    28.00%     0:00:00     0:00:00 Temperature        Energy    Accept   Improve     Elapsed   Remaining\n",
      "     1.00000          5.86    68.00%    24.00%     0:00:00     0:00:00 Temperature        Energy    Accept   Improve     Elapsed   Remaining\n",
      "     1.00000          7.99    68.00%    20.00%     0:00:00     0:00:00 Temperature        Energy    Accept   Improve     Elapsed   Remaining\n",
      "     1.00000          6.24    74.00%    26.00%     0:00:00     0:00:00 Temperature        Energy    Accept   Improve     Elapsed   Remaining\n",
      "     1.00000          5.70    60.00%    28.00%     0:00:00     0:00:00 Temperature        Energy    Accept   Improve     Elapsed   Remaining\n",
      "     1.00000          5.85    70.00%    24.00%     0:00:00     0:00:00 Temperature        Energy    Accept   Improve     Elapsed   Remaining\n",
      "     1.00000          6.25    70.00%    26.00%     0:00:00     0:00:00 Temperature        Energy    Accept   Improve     Elapsed   Remaining\n",
      "     1.00000          6.24    74.00%    32.00%     0:00:00     0:00:00 Temperature        Energy    Accept   Improve     Elapsed   Remaining\n",
      "     1.00000          5.81    72.00%    28.00%     0:00:00     0:00:00 Temperature        Energy    Accept   Improve     Elapsed   Remaining\n",
      "     1.00000          5.68    66.00%    24.00%     0:00:00     0:00:00 Temperature        Energy    Accept   Improve     Elapsed   Remaining\n",
      "     1.00000          6.22    60.00%    16.00%     0:00:00     0:00:00 Temperature        Energy    Accept   Improve     Elapsed   Remaining\n",
      "     1.00000          5.77    64.00%    22.00%     0:00:00     0:00:00 Temperature        Energy    Accept   Improve     Elapsed   Remaining\n",
      "     1.00000          6.30    60.00%    22.00%     0:00:00     0:00:00 Temperature        Energy    Accept   Improve     Elapsed   Remaining\n",
      "     1.00000          6.30    76.00%    36.00%     0:00:00     0:00:00 Temperature        Energy    Accept   Improve     Elapsed   Remaining\n",
      "     1.00000          5.85    74.00%    34.00%     0:00:00     0:00:00 Temperature        Energy    Accept   Improve     Elapsed   Remaining\n",
      "     1.00000          6.22    76.00%    38.00%     0:00:00     0:00:00 Temperature        Energy    Accept   Improve     Elapsed   Remaining\n",
      "     1.00000          6.24    66.00%    32.00%     0:00:00     0:00:00 Temperature        Energy    Accept   Improve     Elapsed   Remaining\n",
      "     1.00000          5.60    66.00%    20.00%     0:00:00     0:00:00 Temperature        Energy    Accept   Improve     Elapsed   Remaining\n",
      "     1.00000          5.70    76.00%    26.00%     0:00:00     0:00:00 Temperature        Energy    Accept   Improve     Elapsed   Remaining\n",
      "     1.00000          5.68    66.00%    22.00%     0:00:00     0:00:00 Temperature        Energy    Accept   Improve     Elapsed   Remaining\n",
      "     1.00000          5.70    62.00%    24.00%     0:00:00     0:00:00 Temperature        Energy    Accept   Improve     Elapsed   Remaining\n",
      "     1.00000          5.60    72.00%    32.00%     0:00:00     0:00:00 Temperature        Energy    Accept   Improve     Elapsed   Remaining\n",
      "     1.00000          7.91    66.00%    28.00%     0:00:00     0:00:00 Temperature        Energy    Accept   Improve     Elapsed   Remaining\n",
      "     1.00000          5.85    72.00%    24.00%     0:00:00     0:00:00 Temperature        Energy    Accept   Improve     Elapsed   Remaining\n",
      "     1.00000          6.24    70.00%    20.00%     0:00:00     0:00:00 Temperature        Energy    Accept   Improve     Elapsed   Remaining\n",
      "     1.00000          8.06    72.00%    34.00%     0:00:00     0:00:00 Temperature        Energy    Accept   Improve     Elapsed   Remaining\n",
      "     1.00000          6.34    64.00%    26.00%     0:00:00     0:00:00 Temperature        Energy    Accept   Improve     Elapsed   Remaining\n",
      "     1.00000          6.14    68.00%    20.00%     0:00:00     0:00:00 Temperature        Energy    Accept   Improve     Elapsed   Remaining\n",
      "     1.00000          8.06    76.00%    26.00%     0:00:00     0:00:00 Temperature        Energy    Accept   Improve     Elapsed   Remaining\n",
      "     1.00000          5.70    78.00%    30.00%     0:00:00     0:00:00"
     ]
    },
    {
     "name": "stdout",
     "output_type": "stream",
     "text": [
      "CPU times: user 28.4 s, sys: 2.9 s, total: 31.3 s\n",
      "Wall time: 37.2 s\n"
     ]
    },
    {
     "data": {
      "text/plain": [
       "37.02221894264221"
      ]
     },
     "execution_count": 20,
     "metadata": {},
     "output_type": "execute_result"
    }
   ],
   "source": [
    "%%time\n",
    "dict_Hiper_SA = {'tmax': 10000, 'tmin': 1.0, 'steps': 5000, 'updates': 100}\n",
    "SA = sa.SimulatedAnnealing(df_Grafo,dict_Hiper_SA)\n",
    "\n",
    "total_time = 0\n",
    "for i in range(100):\n",
    "    start = time.time()\n",
    "    SA.Ejecutar()\n",
    "    end = time.time()\n",
    "    \n",
    "    train_time = end - start\n",
    "    total_time += train_time\n",
    "    \n",
    "total_time \n"
   ]
  },
  {
   "cell_type": "markdown",
   "metadata": {},
   "source": [
    "## 10 nodos"
   ]
  },
  {
   "cell_type": "code",
   "execution_count": 21,
   "metadata": {},
   "outputs": [
    {
     "data": {
      "text/html": [
       "<div>\n",
       "<style scoped>\n",
       "    .dataframe tbody tr th:only-of-type {\n",
       "        vertical-align: middle;\n",
       "    }\n",
       "\n",
       "    .dataframe tbody tr th {\n",
       "        vertical-align: top;\n",
       "    }\n",
       "\n",
       "    .dataframe thead th {\n",
       "        text-align: right;\n",
       "    }\n",
       "</style>\n",
       "<table border=\"1\" class=\"dataframe\">\n",
       "  <thead>\n",
       "    <tr style=\"text-align: right;\">\n",
       "      <th></th>\n",
       "      <th>id_origen</th>\n",
       "      <th>id_destino</th>\n",
       "      <th>distancia</th>\n",
       "    </tr>\n",
       "  </thead>\n",
       "  <tbody>\n",
       "    <tr>\n",
       "      <th>0</th>\n",
       "      <td>11078</td>\n",
       "      <td>1009790047</td>\n",
       "      <td>3.1011127017081943</td>\n",
       "    </tr>\n",
       "    <tr>\n",
       "      <th>1</th>\n",
       "      <td>11078</td>\n",
       "      <td>1009791566</td>\n",
       "      <td>0.5142577124821974</td>\n",
       "    </tr>\n",
       "    <tr>\n",
       "      <th>2</th>\n",
       "      <td>11078</td>\n",
       "      <td>1020088646</td>\n",
       "      <td>0.9248048280652852</td>\n",
       "    </tr>\n",
       "    <tr>\n",
       "      <th>3</th>\n",
       "      <td>11078</td>\n",
       "      <td>1020249367</td>\n",
       "      <td>0.47811555481864304</td>\n",
       "    </tr>\n",
       "    <tr>\n",
       "      <th>4</th>\n",
       "      <td>11078</td>\n",
       "      <td>1020253076</td>\n",
       "      <td>0.6722824338378225</td>\n",
       "    </tr>\n",
       "  </tbody>\n",
       "</table>\n",
       "</div>"
      ],
      "text/plain": [
       "  id_origen  id_destino            distancia\n",
       "0     11078  1009790047   3.1011127017081943\n",
       "1     11078  1009791566   0.5142577124821974\n",
       "2     11078  1020088646   0.9248048280652852\n",
       "3     11078  1020249367  0.47811555481864304\n",
       "4     11078  1020253076   0.6722824338378225"
      ]
     },
     "execution_count": 21,
     "metadata": {},
     "output_type": "execute_result"
    }
   ],
   "source": [
    "# Se obtiene el dataframe que contiene el grafo de la fuerza de venta a evaluar:\n",
    "str_Query = 'select id_origen, id_destino, distancia from trabajo.grafos where id_fza_ventas={};'\n",
    "\n",
    "# En el query se especifica el id_fza_venta del cual se quiere obtener su grafo\n",
    "df_Grafo = ut.get_data(str_Query.format(96298))\n",
    "df_Grafo.head()"
   ]
  },
  {
   "cell_type": "code",
   "execution_count": 22,
   "metadata": {},
   "outputs": [
    {
     "name": "stdout",
     "output_type": "stream",
     "text": [
      "CPU times: user 1.8 s, sys: 0 ns, total: 1.8 s\n",
      "Wall time: 1.83 s\n"
     ]
    },
    {
     "data": {
      "text/plain": [
       "1.8135344982147217"
      ]
     },
     "execution_count": 22,
     "metadata": {},
     "output_type": "execute_result"
    }
   ],
   "source": [
    "%%time\n",
    "# Definición de hiperparámetros\n",
    "dict_Hiper = {'Iteraciones': 10,\n",
    "              'Particulas': 100,\n",
    "              'Alfa': 1,\n",
    "              'Beta': .5\n",
    "              }\n",
    "\n",
    "PS = ps.ParticleSwarm(df_Grafo,dict_Hiper)\n",
    "\n",
    "total_time = 0\n",
    "for i in range(100):\n",
    "    start = time.time()\n",
    "    PS.Ejecutar()\n",
    "    end = time.time()\n",
    "    \n",
    "    train_time = end - start\n",
    "    total_time += train_time\n",
    "    \n",
    "total_time "
   ]
  },
  {
   "cell_type": "code",
   "execution_count": 23,
   "metadata": {},
   "outputs": [
    {
     "name": "stderr",
     "output_type": "stream",
     "text": [
      " Temperature        Energy    Accept   Improve     Elapsed   Remaining\n",
      "     1.00000          9.76    80.00%    40.00%     0:00:00     0:00:00 Temperature        Energy    Accept   Improve     Elapsed   Remaining\n",
      "     1.00000         10.87    92.00%    40.00%     0:00:00     0:00:00 Temperature        Energy    Accept   Improve     Elapsed   Remaining\n",
      "     1.00000          9.80    84.00%    40.00%     0:00:00     0:00:00 Temperature        Energy    Accept   Improve     Elapsed   Remaining\n",
      "     1.00000          9.85    84.00%    42.00%     0:00:00     0:00:00 Temperature        Energy    Accept   Improve     Elapsed   Remaining\n",
      "     1.00000          9.78    76.00%    34.00%     0:00:00     0:00:00 Temperature        Energy    Accept   Improve     Elapsed   Remaining\n",
      "     1.00000          9.62    94.00%    42.00%     0:00:00     0:00:00 Temperature        Energy    Accept   Improve     Elapsed   Remaining\n",
      "     1.00000         10.36    78.00%    34.00%     0:00:01     0:00:00 Temperature        Energy    Accept   Improve     Elapsed   Remaining\n",
      "     1.00000         10.32    84.00%    42.00%     0:00:00     0:00:00 Temperature        Energy    Accept   Improve     Elapsed   Remaining\n",
      "     1.00000          9.59    90.00%    46.00%     0:00:01     0:00:00 Temperature        Energy    Accept   Improve     Elapsed   Remaining\n",
      "     1.00000         10.91    80.00%    38.00%     0:00:01     0:00:00 Temperature        Energy    Accept   Improve     Elapsed   Remaining\n",
      "     1.00000         10.02    64.00%    28.00%     0:00:01     0:00:00 Temperature        Energy    Accept   Improve     Elapsed   Remaining\n",
      "     1.00000          9.61    76.00%    32.00%     0:00:01     0:00:00 Temperature        Energy    Accept   Improve     Elapsed   Remaining\n",
      "     1.00000          9.43    84.00%    38.00%     0:00:00     0:00:00 Temperature        Energy    Accept   Improve     Elapsed   Remaining\n",
      "     1.00000          9.75    90.00%    42.00%     0:00:00     0:00:00 Temperature        Energy    Accept   Improve     Elapsed   Remaining\n",
      "     1.00000          9.94    96.00%    36.00%     0:00:00     0:00:00 Temperature        Energy    Accept   Improve     Elapsed   Remaining\n",
      "     1.00000         10.52    80.00%    36.00%     0:00:00     0:00:00 Temperature        Energy    Accept   Improve     Elapsed   Remaining\n",
      "     1.00000         11.44    94.00%    42.00%     0:00:00     0:00:00 Temperature        Energy    Accept   Improve     Elapsed   Remaining\n",
      "     1.00000         10.23    82.00%    32.00%     0:00:00     0:00:00 Temperature        Energy    Accept   Improve     Elapsed   Remaining\n",
      "     1.00000          9.12    84.00%    40.00%     0:00:00     0:00:00 Temperature        Energy    Accept   Improve     Elapsed   Remaining\n",
      "     1.00000         10.36    78.00%    34.00%     0:00:00     0:00:00 Temperature        Energy    Accept   Improve     Elapsed   Remaining\n",
      "     1.00000          9.70    90.00%    34.00%     0:00:00     0:00:00 Temperature        Energy    Accept   Improve     Elapsed   Remaining\n",
      "     1.00000         10.59    90.00%    32.00%     0:00:00     0:00:00 Temperature        Energy    Accept   Improve     Elapsed   Remaining\n",
      "     1.00000         10.05    76.00%    32.00%     0:00:00     0:00:00 Temperature        Energy    Accept   Improve     Elapsed   Remaining\n",
      "     1.00000          9.46    80.00%    38.00%     0:00:00     0:00:00 Temperature        Energy    Accept   Improve     Elapsed   Remaining\n",
      "     1.00000          9.39    92.00%    44.00%     0:00:01     0:00:00 Temperature        Energy    Accept   Improve     Elapsed   Remaining\n",
      "     1.00000         10.54    88.00%    44.00%     0:00:00     0:00:00 Temperature        Energy    Accept   Improve     Elapsed   Remaining\n",
      "     1.00000         10.83    92.00%    48.00%     0:00:00     0:00:00 Temperature        Energy    Accept   Improve     Elapsed   Remaining\n",
      "     1.00000          8.81    80.00%    36.00%     0:00:00     0:00:00 Temperature        Energy    Accept   Improve     Elapsed   Remaining\n",
      "     1.00000         10.37    76.00%    30.00%     0:00:00     0:00:00 Temperature        Energy    Accept   Improve     Elapsed   Remaining\n",
      "     1.00000         10.34    84.00%    34.00%     0:00:00     0:00:00 Temperature        Energy    Accept   Improve     Elapsed   Remaining\n",
      "     1.00000         10.20    82.00%    40.00%     0:00:00     0:00:00 Temperature        Energy    Accept   Improve     Elapsed   Remaining\n",
      "     1.00000         10.23    90.00%    42.00%     0:00:00     0:00:00 Temperature        Energy    Accept   Improve     Elapsed   Remaining\n",
      "     1.00000         10.18    82.00%    38.00%     0:00:00     0:00:00 Temperature        Energy    Accept   Improve     Elapsed   Remaining\n",
      "     1.00000         10.13    84.00%    40.00%     0:00:00     0:00:00 Temperature        Energy    Accept   Improve     Elapsed   Remaining\n",
      "     1.00000         10.20    92.00%    38.00%     0:00:00     0:00:00 Temperature        Energy    Accept   Improve     Elapsed   Remaining\n",
      "     1.00000         11.05    90.00%    38.00%     0:00:00     0:00:00 Temperature        Energy    Accept   Improve     Elapsed   Remaining\n",
      "     1.00000         11.20    76.00%    30.00%     0:00:00     0:00:00 Temperature        Energy    Accept   Improve     Elapsed   Remaining\n",
      "     1.00000          9.81    84.00%    48.00%     0:00:00     0:00:00 Temperature        Energy    Accept   Improve     Elapsed   Remaining\n",
      "     1.00000          9.93    84.00%    34.00%     0:00:00     0:00:00 Temperature        Energy    Accept   Improve     Elapsed   Remaining\n",
      "     1.00000         10.38    82.00%    32.00%     0:00:00     0:00:00 Temperature        Energy    Accept   Improve     Elapsed   Remaining\n",
      "     1.00000         10.61    94.00%    42.00%     0:00:00     0:00:00 Temperature        Energy    Accept   Improve     Elapsed   Remaining\n",
      "     1.00000         11.05    86.00%    36.00%     0:00:00     0:00:00 Temperature        Energy    Accept   Improve     Elapsed   Remaining\n",
      "     1.00000          9.77    82.00%    38.00%     0:00:00     0:00:00 Temperature        Energy    Accept   Improve     Elapsed   Remaining\n",
      "     1.00000         11.61    78.00%    42.00%     0:00:00     0:00:00 Temperature        Energy    Accept   Improve     Elapsed   Remaining\n",
      "     1.00000          9.59    88.00%    38.00%     0:00:00     0:00:00 Temperature        Energy    Accept   Improve     Elapsed   Remaining\n",
      "     1.00000         10.21    88.00%    36.00%     0:00:00     0:00:00 Temperature        Energy    Accept   Improve     Elapsed   Remaining\n",
      "     1.00000          9.60    86.00%    36.00%     0:00:00     0:00:00 Temperature        Energy    Accept   Improve     Elapsed   Remaining\n",
      "     1.00000         11.59    80.00%    34.00%     0:00:00     0:00:00 Temperature        Energy    Accept   Improve     Elapsed   Remaining\n",
      "     1.00000         11.43   100.00%    38.00%     0:00:00     0:00:00 Temperature        Energy    Accept   Improve     Elapsed   Remaining\n",
      "     1.00000         10.77    76.00%    34.00%     0:00:00     0:00:00 Temperature        Energy    Accept   Improve     Elapsed   Remaining\n",
      "     1.00000         11.03    94.00%    40.00%     0:00:00     0:00:00 Temperature        Energy    Accept   Improve     Elapsed   Remaining\n",
      "     1.00000          9.94    90.00%    40.00%     0:00:00     0:00:00 Temperature        Energy    Accept   Improve     Elapsed   Remaining\n",
      "     1.00000         10.17    82.00%    34.00%     0:00:00     0:00:00 Temperature        Energy    Accept   Improve     Elapsed   Remaining\n",
      "     1.00000         10.80    78.00%    28.00%     0:00:00     0:00:00 Temperature        Energy    Accept   Improve     Elapsed   Remaining\n",
      "     1.00000         10.37    80.00%    40.00%     0:00:00     0:00:00 Temperature        Energy    Accept   Improve     Elapsed   Remaining\n",
      "     1.00000         10.32    88.00%    30.00%     0:00:00     0:00:00 Temperature        Energy    Accept   Improve     Elapsed   Remaining\n",
      "     1.00000          9.29    90.00%    44.00%     0:00:00     0:00:00 Temperature        Energy    Accept   Improve     Elapsed   Remaining\n",
      "     1.00000          9.60    92.00%    38.00%     0:00:00     0:00:00 Temperature        Energy    Accept   Improve     Elapsed   Remaining\n"
     ]
    },
    {
     "name": "stderr",
     "output_type": "stream",
     "text": [
      "     1.00000          9.30    84.00%    32.00%     0:00:00     0:00:00 Temperature        Energy    Accept   Improve     Elapsed   Remaining\n",
      "     1.00000         10.25    82.00%    44.00%     0:00:00     0:00:00 Temperature        Energy    Accept   Improve     Elapsed   Remaining\n",
      "     1.00000         10.16    88.00%    40.00%     0:00:00     0:00:00 Temperature        Energy    Accept   Improve     Elapsed   Remaining\n",
      "     1.00000         10.30    92.00%    34.00%     0:00:00     0:00:00 Temperature        Energy    Accept   Improve     Elapsed   Remaining\n",
      "     1.00000         10.82    82.00%    38.00%     0:00:00     0:00:00 Temperature        Energy    Accept   Improve     Elapsed   Remaining\n",
      "     1.00000         11.12    92.00%    42.00%     0:00:00     0:00:00 Temperature        Energy    Accept   Improve     Elapsed   Remaining\n",
      "     1.00000          9.99    76.00%    38.00%     0:00:00     0:00:00 Temperature        Energy    Accept   Improve     Elapsed   Remaining\n",
      "     1.00000          9.72    80.00%    38.00%     0:00:00     0:00:00 Temperature        Energy    Accept   Improve     Elapsed   Remaining\n",
      "     1.00000          9.17    84.00%    38.00%     0:00:00     0:00:00 Temperature        Energy    Accept   Improve     Elapsed   Remaining\n",
      "     1.00000          9.18    84.00%    36.00%     0:00:00     0:00:00 Temperature        Energy    Accept   Improve     Elapsed   Remaining\n",
      "     1.00000         10.22    84.00%    30.00%     0:00:00     0:00:00 Temperature        Energy    Accept   Improve     Elapsed   Remaining\n",
      "     1.00000         10.51    92.00%    38.00%     0:00:01     0:00:00 Temperature        Energy    Accept   Improve     Elapsed   Remaining\n",
      "     1.00000          9.08    84.00%    38.00%     0:00:00     0:00:00 Temperature        Energy    Accept   Improve     Elapsed   Remaining\n",
      "     1.00000         10.45    88.00%    44.00%     0:00:00     0:00:00 Temperature        Energy    Accept   Improve     Elapsed   Remaining\n",
      "     1.00000         10.43    84.00%    36.00%     0:00:00     0:00:00 Temperature        Energy    Accept   Improve     Elapsed   Remaining\n",
      "     1.00000         10.85    94.00%    36.00%     0:00:00     0:00:00 Temperature        Energy    Accept   Improve     Elapsed   Remaining\n",
      "     1.00000         10.12    82.00%    36.00%     0:00:00     0:00:00 Temperature        Energy    Accept   Improve     Elapsed   Remaining\n",
      "     1.00000         10.81    80.00%    30.00%     0:00:00     0:00:00 Temperature        Energy    Accept   Improve     Elapsed   Remaining\n",
      "     1.00000         11.17    80.00%    38.00%     0:00:00     0:00:00 Temperature        Energy    Accept   Improve     Elapsed   Remaining\n",
      "     1.00000          9.76    94.00%    52.00%     0:00:00     0:00:00 Temperature        Energy    Accept   Improve     Elapsed   Remaining\n",
      "     1.00000         11.14    84.00%    36.00%     0:00:00     0:00:00 Temperature        Energy    Accept   Improve     Elapsed   Remaining\n",
      "     1.00000         10.39    90.00%    44.00%     0:00:00     0:00:00 Temperature        Energy    Accept   Improve     Elapsed   Remaining\n",
      "     1.00000         10.37    82.00%    36.00%     0:00:00     0:00:00 Temperature        Energy    Accept   Improve     Elapsed   Remaining\n",
      "     1.00000         11.38    90.00%    34.00%     0:00:00     0:00:00 Temperature        Energy    Accept   Improve     Elapsed   Remaining\n",
      "     1.00000         10.17    90.00%    42.00%     0:00:00     0:00:00 Temperature        Energy    Accept   Improve     Elapsed   Remaining\n",
      "     1.00000          9.74    72.00%    28.00%     0:00:00     0:00:00 Temperature        Energy    Accept   Improve     Elapsed   Remaining\n",
      "     1.00000         10.73    82.00%    34.00%     0:00:00     0:00:00 Temperature        Energy    Accept   Improve     Elapsed   Remaining\n",
      "     1.00000          9.59    92.00%    42.00%     0:00:00     0:00:00 Temperature        Energy    Accept   Improve     Elapsed   Remaining\n",
      "     1.00000         10.38    80.00%    32.00%     0:00:00     0:00:00 Temperature        Energy    Accept   Improve     Elapsed   Remaining\n",
      "     1.00000          9.52    72.00%    34.00%     0:00:00     0:00:00 Temperature        Energy    Accept   Improve     Elapsed   Remaining\n",
      "     1.00000          9.71    74.00%    32.00%     0:00:00     0:00:00 Temperature        Energy    Accept   Improve     Elapsed   Remaining\n",
      "     1.00000          9.51    80.00%    32.00%     0:00:00     0:00:00 Temperature        Energy    Accept   Improve     Elapsed   Remaining\n",
      "     1.00000          9.52    82.00%    38.00%     0:00:00     0:00:00 Temperature        Energy    Accept   Improve     Elapsed   Remaining\n",
      "     1.00000         11.69    78.00%    32.00%     0:00:00     0:00:00 Temperature        Energy    Accept   Improve     Elapsed   Remaining\n",
      "     1.00000         10.15    70.00%    28.00%     0:00:00     0:00:00 Temperature        Energy    Accept   Improve     Elapsed   Remaining\n",
      "     1.00000          9.50    90.00%    48.00%     0:00:00     0:00:00 Temperature        Energy    Accept   Improve     Elapsed   Remaining\n",
      "     1.00000          9.93    80.00%    30.00%     0:00:00     0:00:00 Temperature        Energy    Accept   Improve     Elapsed   Remaining\n",
      "     1.00000         10.10    84.00%    36.00%     0:00:00     0:00:00 Temperature        Energy    Accept   Improve     Elapsed   Remaining\n",
      "     1.00000          9.21    76.00%    40.00%     0:00:00     0:00:00 Temperature        Energy    Accept   Improve     Elapsed   Remaining\n",
      "     1.00000         11.00    82.00%    36.00%     0:00:00     0:00:00 Temperature        Energy    Accept   Improve     Elapsed   Remaining\n",
      "     1.00000         10.16    80.00%    36.00%     0:00:00     0:00:00 Temperature        Energy    Accept   Improve     Elapsed   Remaining\n",
      "     1.00000         10.75    90.00%    42.00%     0:00:00     0:00:00"
     ]
    },
    {
     "name": "stdout",
     "output_type": "stream",
     "text": [
      "CPU times: user 31.2 s, sys: 2.78 s, total: 34 s\n",
      "Wall time: 40.3 s\n"
     ]
    },
    {
     "data": {
      "text/plain": [
       "39.88219976425171"
      ]
     },
     "execution_count": 23,
     "metadata": {},
     "output_type": "execute_result"
    }
   ],
   "source": [
    "%%time\n",
    "dict_Hiper_SA = {'tmax': 10000, 'tmin': 1.0, 'steps': 5000, 'updates': 100}\n",
    "SA = sa.SimulatedAnnealing(df_Grafo,dict_Hiper_SA)\n",
    "\n",
    "total_time = 0\n",
    "for i in range(100):\n",
    "    start = time.time()\n",
    "    SA.Ejecutar()\n",
    "    end = time.time()\n",
    "    \n",
    "    train_time = end - start\n",
    "    total_time += train_time\n",
    "    \n",
    "total_time "
   ]
  },
  {
   "cell_type": "code",
   "execution_count": null,
   "metadata": {},
   "outputs": [],
   "source": []
  }
 ],
 "metadata": {
  "kernelspec": {
   "display_name": "Python 3",
   "language": "python",
   "name": "python3"
  },
  "language_info": {
   "codemirror_mode": {
    "name": "ipython",
    "version": 3
   },
   "file_extension": ".py",
   "mimetype": "text/x-python",
   "name": "python",
   "nbconvert_exporter": "python",
   "pygments_lexer": "ipython3",
   "version": "3.7.6"
  }
 },
 "nbformat": 4,
 "nbformat_minor": 4
}
