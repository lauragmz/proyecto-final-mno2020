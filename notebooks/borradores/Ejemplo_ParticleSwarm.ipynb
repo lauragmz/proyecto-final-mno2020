{
 "cells": [
  {
   "cell_type": "markdown",
   "metadata": {},
   "source": [
    "### EJEMPLO DE CORRIDA DEL ALGORITMO: PARTICLE SWARM"
   ]
  },
  {
   "cell_type": "code",
   "execution_count": 1,
   "metadata": {},
   "outputs": [],
   "source": [
    "import sys\n",
    "sys.path.append('../')\n",
    "\n",
    "from src.models import particle_swarm as ps"
   ]
  },
  {
   "cell_type": "code",
   "execution_count": 6,
   "metadata": {},
   "outputs": [],
   "source": [
    "# Definición del grafo cerrado\n",
    "\n",
    "df_Dummy = [[0, 1, 1],\n",
    "            [0, 2, 3],\n",
    "            [0, 3, 4],\n",
    "            [0, 4, 5],\n",
    "            [1, 2, 1],\n",
    "            [1, 3, 4],\n",
    "            [1, 4, 8],\n",
    "            [2, 3, 5],\n",
    "            [2, 4, 1],\n",
    "            [3, 4, 2],\n",
    "            ]\n",
    "\n",
    "# Definición de hiperparámetros\n",
    "dict_Hiper = {'Iteraciones': 10,\n",
    "              'Particulas': 10,\n",
    "              'Alfa': .9,\n",
    "              'Beta': 1\n",
    "              }"
   ]
  },
  {
   "cell_type": "code",
   "execution_count": 8,
   "metadata": {},
   "outputs": [
    {
     "name": "stdout",
     "output_type": "stream",
     "text": [
      "Tiempo de ejecución:  0.007117748260498047\n",
      "Mejor distancia encontrada:  9\n",
      "MejorCamino:  [4, 3, 0, 1, 2]\n"
     ]
    }
   ],
   "source": [
    "# Se instancia el objeto\n",
    "PS = ps.ParticleSwarm(df_Dummy, dict_Hiper)\n",
    "\n",
    "# Ejecución de particle swarm\n",
    "PS.Ejecutar()\n",
    "\n",
    "# Resultados del algoritmo:\n",
    "print('Tiempo de ejecución: ', PS.nbr_TiempoEjec)\n",
    "print('Mejor distancia encontrada: ', PS.nbr_MejorCosto)\n",
    "print('MejorCamino: ', PS.lst_MejorCamino)"
   ]
  }
 ],
 "metadata": {
  "kernelspec": {
   "display_name": "Python 3",
   "language": "python",
   "name": "python3"
  },
  "language_info": {
   "codemirror_mode": {
    "name": "ipython",
    "version": 3
   },
   "file_extension": ".py",
   "mimetype": "text/x-python",
   "name": "python",
   "nbconvert_exporter": "python",
   "pygments_lexer": "ipython3",
   "version": "3.7.3"
  }
 },
 "nbformat": 4,
 "nbformat_minor": 4
}
