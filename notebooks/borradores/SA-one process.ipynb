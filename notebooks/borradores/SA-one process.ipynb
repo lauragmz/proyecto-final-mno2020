{
 "cells": [
  {
   "cell_type": "code",
   "execution_count": 1,
   "metadata": {},
   "outputs": [],
   "source": [
    "# Funciones útiles\n",
    "def convert(ruta): \n",
    "    s = [str(i) for i in ruta] \n",
    "    ruta_c = \"-\".join(s)\n",
    "    return(ruta_c) "
   ]
  },
  {
   "cell_type": "code",
   "execution_count": 2,
   "metadata": {},
   "outputs": [],
   "source": [
    "import pandas as pd\n",
    "#Cargamos el csv con los datos\n",
    "df = pd.read_csv(\"C:/Documents/Proyecto final/base.csv\", sep = ',',encoding='latin-1')"
   ]
  },
  {
   "cell_type": "code",
   "execution_count": 3,
   "metadata": {},
   "outputs": [],
   "source": [
    "#Creación de función que genera el diccionario necesario para ingresar al algoritmo\n",
    "def diccionario_lugares(df,fv):\n",
    "    \"\"\"\n",
    "    Función para generar un diccinario con los lugares que visita una fuerza de venta.\n",
    "    Args:\n",
    "        df (dataFrame): DataFrame con la base de datos\n",
    "        fv (int): Fuerza de venta del que queremos generar el diccionario.\n",
    "    Returns:\n",
    "        lugares(diccionario): incluye los puntos que debe visitar con sus coordenas. \n",
    "    \"\"\"\n",
    "    df2 = df[(df.fza_ventas == fv)]\n",
    "    df2['lugar'] = range(1, len(df2) + 1)\n",
    "    df2 = df2.append({'lugar' : 'base' , 'lat_destino' : df2.iloc[0]['lat_origen'],'lon_destino': df2.iloc[0]['lon_origen'] } , ignore_index=True)\n",
    "    df3 = df2[['lugar','lat_destino','lon_destino']].copy()\n",
    "    lugares = {a:(b,c)for a, b, c in df3.values}\n",
    "    return lugares"
   ]
  },
  {
   "cell_type": "code",
   "execution_count": 12,
   "metadata": {},
   "outputs": [
    {
     "name": "stderr",
     "output_type": "stream",
     "text": [
      "C:\\Users\\anabc\\Anaconda3\\lib\\site-packages\\ipykernel_launcher.py:12: SettingWithCopyWarning: \n",
      "A value is trying to be set on a copy of a slice from a DataFrame.\n",
      "Try using .loc[row_indexer,col_indexer] = value instead\n",
      "\n",
      "See the caveats in the documentation: http://pandas.pydata.org/pandas-docs/stable/indexing.html#indexing-view-versus-copy\n",
      "  if sys.path[0] == '':\n"
     ]
    }
   ],
   "source": [
    "lugares = diccionario_lugares(df,94459)\n",
    "#Podemos probar con estas fuerza de venta:\n",
    "# 94459- 6 lugares, Nuevo león\n",
    "# 37831- 30 lugares, Jalisco\n",
    "#  14738- 58 lugares, Ciudad de México"
   ]
  },
  {
   "cell_type": "code",
   "execution_count": 13,
   "metadata": {},
   "outputs": [
    {
     "data": {
      "text/plain": [
       "{1: (25.671909600000003, -100.1774657),\n",
       " 2: (25.664719, -100.1628501),\n",
       " 3: (25.672287100000002, -100.1651263),\n",
       " 4: (25.678590399999997, -100.16507790000001),\n",
       " 5: (25.68714417, -100.1897223),\n",
       " 6: (25.6778829, -100.1665256),\n",
       " 'base': (25.6626, -100.204)}"
      ]
     },
     "execution_count": 13,
     "metadata": {},
     "output_type": "execute_result"
    }
   ],
   "source": [
    "lugares"
   ]
  },
  {
   "cell_type": "code",
   "execution_count": 14,
   "metadata": {},
   "outputs": [],
   "source": [
    "# -*- coding: utf-8 -*-\n",
    "from __future__ import print_function\n",
    "import math\n",
    "import random\n",
    "from simanneal import Annealer\n",
    "\n",
    "\n",
    "def distance(a, b):\n",
    "    \"\"\"Calculates distance between two latitude-longitude coordinates.\"\"\"\n",
    "    R = 6371  # radius of Earth (miles)\n",
    "    lat1, lon1 = math.radians(a[0]), math.radians(a[1])\n",
    "    lat2, lon2 = math.radians(b[0]), math.radians(b[1])\n",
    "    return math.acos(math.sin(lat1) * math.sin(lat2) +\n",
    "                     math.cos(lat1) * math.cos(lat2) * math.cos(lon1 - lon2)) * R\n",
    "\n",
    "\n",
    "class TravellingSalesmanProblem(Annealer):\n",
    "\n",
    "    \"\"\"Test annealer with a travelling salesman problem.\n",
    "    \"\"\"\n",
    "\n",
    "    # pass extra data (the distance matrix) into the constructor\n",
    "    def __init__(self, state, distance_matrix):\n",
    "        self.distance_matrix = distance_matrix\n",
    "        super(TravellingSalesmanProblem, self).__init__(state)  # important!\n",
    "\n",
    "    def move(self):\n",
    "        \"\"\"Swaps two cities in the route.\"\"\"\n",
    "        # no efficiency gain, just proof of concept\n",
    "        # demonstrates returning the delta energy (optional)\n",
    "        initial_energy = self.energy()\n",
    "\n",
    "        a = random.randint(0, len(self.state) - 1)\n",
    "        b = random.randint(0, len(self.state) - 1)\n",
    "        self.state[a], self.state[b] = self.state[b], self.state[a]\n",
    "\n",
    "        return self.energy() - initial_energy\n",
    "\n",
    "    def energy(self):\n",
    "        \"\"\"Calculates the length of the route.\"\"\"\n",
    "        e = 0\n",
    "        for i in range(len(self.state)):\n",
    "            e += self.distance_matrix[self.state[i-1]][self.state[i]]\n",
    "        return e"
   ]
  },
  {
   "cell_type": "code",
   "execution_count": 15,
   "metadata": {},
   "outputs": [],
   "source": [
    "rutas = pd.DataFrame(index=range(10),columns=['km', 'ruta'])"
   ]
  },
  {
   "cell_type": "code",
   "execution_count": 16,
   "metadata": {},
   "outputs": [
    {
     "name": "stderr",
     "output_type": "stream",
     "text": [
      " Temperature        Energy    Accept   Improve     Elapsed   Remaining\n",
      "     0.00580         11.88    16.00%     0.00%     0:00:02    -1:59:59 Temperature        Energy    Accept   Improve     Elapsed   Remaining\n",
      "     0.00580         11.88    14.22%     0.03%     0:00:06     0:00:00 Temperature        Energy    Accept   Improve     Elapsed   Remaining\n",
      "     3.00000         16.85    80.45%    32.65%     0:00:00     0:00:01"
     ]
    },
    {
     "name": "stdout",
     "output_type": "stream",
     "text": [
      "\n",
      "11 mile route:\n",
      "\t ['base', 5, 6, 4, 3, 2, 1]\n"
     ]
    },
    {
     "name": "stderr",
     "output_type": "stream",
     "text": [
      "     0.01500         12.32    13.60%     0.00%     0:00:02     0:00:00 Temperature        Energy    Accept   Improve     Elapsed   Remaining\n",
      "     0.01500         11.88    15.20%     0.14%     0:00:06     0:00:00 Temperature        Energy    Accept   Improve     Elapsed   Remaining\n",
      "    32.00000         18.27    98.60%    41.50%     0:00:00     0:00:01"
     ]
    },
    {
     "name": "stdout",
     "output_type": "stream",
     "text": [
      "\n",
      "11 mile route:\n",
      "\t [2, 3, 4, 6, 5, 'base', 1]\n",
      "\n",
      "11 mile route:\n",
      "\t [3, 4, 6, 5, 'base', 1, 2]\n",
      "\n",
      "11 mile route:\n",
      "\t [4, 6, 5, 'base', 1, 2, 3]\n",
      "\n",
      "11 mile route:\n",
      "\t [6, 5, 'base', 1, 2, 3, 4]\n",
      "\n",
      "11 mile route:\n",
      "\t [5, 'base', 1, 2, 3, 4, 6]\n",
      "\n",
      "11 mile route:\n",
      "\t ['base', 1, 2, 3, 4, 6, 5]\n"
     ]
    },
    {
     "name": "stderr",
     "output_type": "stream",
     "text": [
      "     0.00870         11.88    14.90%     0.00%     0:00:02     0:00:00 Temperature        Energy    Accept   Improve     Elapsed   Remaining\n",
      "     0.00870         11.88    14.42%     0.02%     0:00:07     0:00:00 Temperature        Energy    Accept   Improve     Elapsed   Remaining\n",
      "     0.92000         13.09    50.55%    17.65%     0:00:00     0:00:01"
     ]
    },
    {
     "name": "stdout",
     "output_type": "stream",
     "text": [
      "\n",
      "11 mile route:\n",
      "\t [4, 3, 2, 1, 'base', 5, 6]\n",
      "\n",
      "11 mile route:\n",
      "\t [3, 2, 1, 'base', 5, 6, 4]\n",
      "\n",
      "11 mile route:\n",
      "\t [2, 1, 'base', 5, 6, 4, 3]\n",
      "\n",
      "11 mile route:\n",
      "\t [1, 'base', 5, 6, 4, 3, 2]\n",
      "\n",
      "11 mile route:\n",
      "\t ['base', 5, 6, 4, 3, 2, 1]\n"
     ]
    },
    {
     "name": "stderr",
     "output_type": "stream",
     "text": [
      "     0.00730         11.88    14.90%     0.00%     0:00:02    -1:59:59 Temperature        Energy    Accept   Improve     Elapsed   Remaining\n",
      "     0.00730         11.88    15.53%     0.00%     0:00:06     0:00:00 Temperature        Energy    Accept   Improve     Elapsed   Remaining\n",
      "     0.01100         11.88    14.70%     0.00%     0:00:02     0:00:00 Temperature        Energy    Accept   Improve     Elapsed   Remaining\n",
      "     0.01100         11.88    14.07%     0.13%     0:00:07     0:00:00 Temperature        Energy    Accept   Improve     Elapsed   Remaining\n",
      "     2.60000         15.13    80.15%    33.25%     0:00:01     0:00:01\r"
     ]
    },
    {
     "name": "stdout",
     "output_type": "stream",
     "text": [
      "\n",
      "11 mile route:\n",
      "\t [4, 6, 5, 'base', 1, 2, 3]\n",
      "\n",
      "11 mile route:\n",
      "\t [6, 5, 'base', 1, 2, 3, 4]\n",
      "\n",
      "11 mile route:\n",
      "\t [5, 'base', 1, 2, 3, 4, 6]\n",
      "\n",
      "11 mile route:\n",
      "\t ['base', 1, 2, 3, 4, 6, 5]\n"
     ]
    },
    {
     "name": "stderr",
     "output_type": "stream",
     "text": [
      "     0.00870         11.88    14.25%     0.00%     0:00:02     0:00:00 Temperature        Energy    Accept   Improve     Elapsed   Remaining\n",
      "     0.00870         11.88    13.45%     0.00%     0:00:05     0:00:00 Temperature        Energy    Accept   Improve     Elapsed   Remaining\n",
      "     0.45000         11.93    30.70%     9.15%     0:00:01     0:00:00"
     ]
    },
    {
     "name": "stdout",
     "output_type": "stream",
     "text": [
      "\n",
      "11 mile route:\n",
      "\t [2, 1, 'base', 5, 6, 4, 3]\n",
      "\n",
      "11 mile route:\n",
      "\t [1, 'base', 5, 6, 4, 3, 2]\n",
      "\n",
      "11 mile route:\n",
      "\t ['base', 5, 6, 4, 3, 2, 1]\n"
     ]
    },
    {
     "name": "stderr",
     "output_type": "stream",
     "text": [
      "     0.00730         11.88    13.40%     0.00%     0:00:02     0:00:00 Temperature        Energy    Accept   Improve     Elapsed   Remaining\n",
      "     0.00730         11.88    14.13%     0.00%     0:00:07     0:00:00 Temperature        Energy    Accept   Improve     Elapsed   Remaining\n",
      "     0.23000         11.93    19.35%     2.95%     0:00:01     0:00:00"
     ]
    },
    {
     "name": "stdout",
     "output_type": "stream",
     "text": [
      "\n",
      "11 mile route:\n",
      "\t [6, 5, 'base', 1, 2, 3, 4]\n",
      "\n",
      "11 mile route:\n",
      "\t [5, 'base', 1, 2, 3, 4, 6]\n",
      "\n",
      "11 mile route:\n",
      "\t ['base', 1, 2, 3, 4, 6, 5]\n"
     ]
    },
    {
     "name": "stderr",
     "output_type": "stream",
     "text": [
      "     0.00580         11.88    13.00%     0.00%     0:00:01     0:00:00 Temperature        Energy    Accept   Improve     Elapsed   Remaining\n",
      "     0.00580         11.88    13.83%     0.02%     0:00:07     0:00:00 Temperature        Energy    Accept   Improve     Elapsed   Remaining\n",
      "    33.00000         17.82    98.00%    42.25%     0:00:01     0:00:01"
     ]
    },
    {
     "name": "stdout",
     "output_type": "stream",
     "text": [
      "\n",
      "11 mile route:\n",
      "\t ['base', 1, 2, 3, 4, 6, 5]\n"
     ]
    },
    {
     "name": "stderr",
     "output_type": "stream",
     "text": [
      "     0.00670         11.88    14.40%     0.00%     0:00:02    -1:59:59 Temperature        Energy    Accept   Improve     Elapsed   Remaining\n",
      "     0.00670         11.88    15.07%     0.00%     0:00:06     0:00:00 Temperature        Energy    Accept   Improve     Elapsed   Remaining\n",
      "     0.80000         12.37    46.30%    16.65%     0:00:01     0:00:00"
     ]
    },
    {
     "name": "stdout",
     "output_type": "stream",
     "text": [
      "\n",
      "11 mile route:\n",
      "\t [3, 4, 6, 5, 'base', 1, 2]\n",
      "\n",
      "11 mile route:\n",
      "\t [4, 6, 5, 'base', 1, 2, 3]\n",
      "\n",
      "11 mile route:\n",
      "\t [6, 5, 'base', 1, 2, 3, 4]\n",
      "\n",
      "11 mile route:\n",
      "\t [5, 'base', 1, 2, 3, 4, 6]\n",
      "\n",
      "11 mile route:\n",
      "\t ['base', 1, 2, 3, 4, 6, 5]\n"
     ]
    },
    {
     "name": "stderr",
     "output_type": "stream",
     "text": [
      "     0.00870         11.88    12.85%     0.00%     0:00:01     0:00:00 Temperature        Energy    Accept   Improve     Elapsed   Remaining\n",
      "     0.00870         11.88    14.72%     0.04%     0:00:06     0:00:00"
     ]
    },
    {
     "name": "stdout",
     "output_type": "stream",
     "text": [
      "\n",
      "11 mile route:\n",
      "\t ['base', 1, 2, 3, 4, 6, 5]\n"
     ]
    }
   ],
   "source": [
    "# initial state, a randomly-ordered itinerary\n",
    "for i in range(10):\n",
    "    init_state = list(lugares.keys())\n",
    "    random.shuffle(init_state)\n",
    "\n",
    "    # create a distance matrix\n",
    "    distance_matrix = {}\n",
    "    for ka, va in lugares.items():\n",
    "        distance_matrix[ka] = {}\n",
    "        for kb, vb in lugares.items():\n",
    "            if kb == ka:\n",
    "                distance_matrix[ka][kb] = 0.0\n",
    "            else:\n",
    "                distance_matrix[ka][kb] = distance(va, vb)\n",
    "\n",
    "    tsp = TravellingSalesmanProblem(init_state, distance_matrix)\n",
    "    tsp.set_schedule(tsp.auto(minutes=0.2))\n",
    "    # since our state is just a list, slice is the fastest way to copy\n",
    "    tsp.copy_strategy = \"slice\"\n",
    "    state, e = tsp.anneal()\n",
    "\n",
    "    while state[0] != 'base':\n",
    "        state = state[1:] + state[:1]  # rotate NYC to start\n",
    "\n",
    "        print()\n",
    "        print(\"%i mile route:\" % e)\n",
    "        print(\"\\t\", state)\n",
    "\n",
    "        rutas.km[i] = e\n",
    "        ruta = state\n",
    "        ruta = convert(ruta)\n",
    "        rutas.ruta[i] = ruta"
   ]
  },
  {
   "cell_type": "code",
   "execution_count": 17,
   "metadata": {},
   "outputs": [
    {
     "data": {
      "text/html": [
       "<div>\n",
       "<style scoped>\n",
       "    .dataframe tbody tr th:only-of-type {\n",
       "        vertical-align: middle;\n",
       "    }\n",
       "\n",
       "    .dataframe tbody tr th {\n",
       "        vertical-align: top;\n",
       "    }\n",
       "\n",
       "    .dataframe thead th {\n",
       "        text-align: right;\n",
       "    }\n",
       "</style>\n",
       "<table border=\"1\" class=\"dataframe\">\n",
       "  <thead>\n",
       "    <tr style=\"text-align: right;\">\n",
       "      <th></th>\n",
       "      <th>km</th>\n",
       "      <th>ruta</th>\n",
       "    </tr>\n",
       "  </thead>\n",
       "  <tbody>\n",
       "    <tr>\n",
       "      <th>0</th>\n",
       "      <td>11.8843</td>\n",
       "      <td>base-5-6-4-3-2-1</td>\n",
       "    </tr>\n",
       "    <tr>\n",
       "      <th>1</th>\n",
       "      <td>11.8843</td>\n",
       "      <td>base-1-2-3-4-6-5</td>\n",
       "    </tr>\n",
       "    <tr>\n",
       "      <th>2</th>\n",
       "      <td>11.8843</td>\n",
       "      <td>base-5-6-4-3-2-1</td>\n",
       "    </tr>\n",
       "    <tr>\n",
       "      <th>3</th>\n",
       "      <td>NaN</td>\n",
       "      <td>NaN</td>\n",
       "    </tr>\n",
       "    <tr>\n",
       "      <th>4</th>\n",
       "      <td>11.8843</td>\n",
       "      <td>base-1-2-3-4-6-5</td>\n",
       "    </tr>\n",
       "    <tr>\n",
       "      <th>5</th>\n",
       "      <td>11.8843</td>\n",
       "      <td>base-5-6-4-3-2-1</td>\n",
       "    </tr>\n",
       "    <tr>\n",
       "      <th>6</th>\n",
       "      <td>11.8843</td>\n",
       "      <td>base-1-2-3-4-6-5</td>\n",
       "    </tr>\n",
       "    <tr>\n",
       "      <th>7</th>\n",
       "      <td>11.8843</td>\n",
       "      <td>base-1-2-3-4-6-5</td>\n",
       "    </tr>\n",
       "    <tr>\n",
       "      <th>8</th>\n",
       "      <td>11.8843</td>\n",
       "      <td>base-1-2-3-4-6-5</td>\n",
       "    </tr>\n",
       "    <tr>\n",
       "      <th>9</th>\n",
       "      <td>11.8843</td>\n",
       "      <td>base-1-2-3-4-6-5</td>\n",
       "    </tr>\n",
       "  </tbody>\n",
       "</table>\n",
       "</div>"
      ],
      "text/plain": [
       "        km              ruta\n",
       "0  11.8843  base-5-6-4-3-2-1\n",
       "1  11.8843  base-1-2-3-4-6-5\n",
       "2  11.8843  base-5-6-4-3-2-1\n",
       "3      NaN               NaN\n",
       "4  11.8843  base-1-2-3-4-6-5\n",
       "5  11.8843  base-5-6-4-3-2-1\n",
       "6  11.8843  base-1-2-3-4-6-5\n",
       "7  11.8843  base-1-2-3-4-6-5\n",
       "8  11.8843  base-1-2-3-4-6-5\n",
       "9  11.8843  base-1-2-3-4-6-5"
      ]
     },
     "execution_count": 17,
     "metadata": {},
     "output_type": "execute_result"
    }
   ],
   "source": [
    "rutas"
   ]
  },
  {
   "cell_type": "code",
   "execution_count": null,
   "metadata": {},
   "outputs": [],
   "source": []
  }
 ],
 "metadata": {
  "kernelspec": {
   "display_name": "Python 3",
   "language": "python",
   "name": "python3"
  },
  "language_info": {
   "codemirror_mode": {
    "name": "ipython",
    "version": 3
   },
   "file_extension": ".py",
   "mimetype": "text/x-python",
   "name": "python",
   "nbconvert_exporter": "python",
   "pygments_lexer": "ipython3",
   "version": "3.6.5"
  }
 },
 "nbformat": 4,
 "nbformat_minor": 2
}
