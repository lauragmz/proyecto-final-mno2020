{
 "cells": [
  {
   "cell_type": "markdown",
   "metadata": {},
   "source": [
    "# Particle Swarm Optimization"
   ]
  },
  {
   "cell_type": "markdown",
   "metadata": {},
   "source": [
    ">Investigación y entendimiento del algoritmo.\n",
    "\n",
    "La idea de este notebook es revisar la implementación del algoritmo particle swarm optimization de manera general para tener una idea de la lógica, intuición y los parámetros que éste contempla."
   ]
  },
  {
   "cell_type": "code",
   "execution_count": 1,
   "metadata": {},
   "outputs": [],
   "source": [
    "import random\n",
    "import math\n",
    "import matplotlib.pyplot as plt"
   ]
  },
  {
   "cell_type": "markdown",
   "metadata": {},
   "source": [
    "Se define una función objetivo."
   ]
  },
  {
   "cell_type": "code",
   "execution_count": 2,
   "metadata": {},
   "outputs": [],
   "source": [
    "# función objetivo\n",
    "def objective_function(x):\n",
    "    y = x[0]**3 + x[1]**2\n",
    "    return y"
   ]
  },
  {
   "cell_type": "markdown",
   "metadata": {},
   "source": [
    "A continuación se definen los parámetros."
   ]
  },
  {
   "cell_type": "code",
   "execution_count": 3,
   "metadata": {},
   "outputs": [],
   "source": [
    "bounds=[(-4, 4), (-4, 4)]   # variables limite inferior y superior\n",
    "nv = 2                          # numero de variables\n",
    "mm = -1                         # problema de minimización, mm = -1; problema de mazimización, mm = 1\n",
    "\n",
    "# Parámetros opcionales (Para optimizar el desempeño del PSO necesitamos optimizar estos parámetros)\n",
    "particle_size = 100         # Número de particulas\n",
    "iterations = 500            # Máximo número de iteraciones\n",
    "w = 0.95                    # Constante inercia\n",
    "c1 = 2                      # Constante cognitiva\n",
    "c2 = 2                      # Constante social"
   ]
  },
  {
   "cell_type": "markdown",
   "metadata": {},
   "source": [
    "Ahora revisaremos el algoritmo."
   ]
  },
  {
   "cell_type": "code",
   "execution_count": 4,
   "metadata": {},
   "outputs": [],
   "source": [
    "# Algoritmo\n",
    "class Particle:\n",
    "    def __init__(self, bounds):\n",
    "        self.particle_position = []                     # posición de la particula\n",
    "        self.particle_velocity = []                     # velocidad de la particula\n",
    "        self.local_best_particle_position = []          # mejor posición de la particula\n",
    "        self.fitness_local_best_particle_position = initial_fitness # valor inicial de la función objetivo de la mejor particula\n",
    "        self.fitness_particle_position = initial_fitness            # valor de la función objetivo de la posición de la particula\n",
    "\n",
    "        for i in range(nv):\n",
    "            self.particle_position.append(random.uniform(bounds[i][0], bounds[i][1])) # generamos una posición inicial al azar\n",
    "            self.particle_velocity.append(random.uniform(-1, 1)) # generamos la velocidad inicial al azar\n",
    "\n",
    "    def evaluate(self, objective_function):\n",
    "        self.fitness_particle_position = objective_function(self.particle_position)\n",
    "        if mm == -1:\n",
    "            if self.fitness_particle_position < self.fitness_local_best_particle_position:\n",
    "                self.local_best_particle_position = self.particle_position      # actualizamos el mejor \"local\"\n",
    "                self.fitness_local_best_particle_position = self.fitness_particle_position # actualizamos el fitness del mejor \"local\"\n",
    "        if mm == 1:\n",
    "            if self.fitness_particle_position > self.fitness_local_best_particle_position:\n",
    "                self.local_best_particle_position = self.particle_position      # actualizamos el mejor \"local\"\n",
    "                self.fitness_local_best_particle_position = self.fitness_particle_position # actualizamos el fitness del mejor \"local\"\n",
    "\n",
    "    def update_velocity(self, global_best_particle_position):\n",
    "        for i in range(nv):\n",
    "            r1 = random.random()\n",
    "            r2 = random.random()\n",
    "\n",
    "            cognitive_velocity = c1*r1*(self.local_best_particle_position[i] - self.particle_position[i])\n",
    "            social_velocity = c2*r2*(global_best_particle_position[i] - self.particle_position[i])\n",
    "            self.particle_velocity[i] = w*self.particle_velocity[i] + cognitive_velocity + social_velocity\n",
    "\n",
    "    def update_position(self, bounds):\n",
    "        for i in range(nv):\n",
    "            self.particle_position[i] = self.particle_position[i] + self.particle_velocity[i]\n",
    "\n",
    "            # Validamos y reparamos para satisfacer el limite superior\n",
    "            if self.particle_position[i] > bounds[i][1]:\n",
    "                self.particle_position[i] = bounds[i][1]\n",
    "\n",
    "            # Validamos y reparamos para satisfacer el limite inferior\n",
    "            if self.particle_position[i] < bounds[i][0]:\n",
    "                self.particle_position[i] = bounds[i][0]"
   ]
  },
  {
   "cell_type": "code",
   "execution_count": 5,
   "metadata": {},
   "outputs": [],
   "source": [
    "class PSO():\n",
    "    def __init__(self, objective_function, bounds, particle_size, iterations):\n",
    "\n",
    "        fitness_global_best_particle_position = initial_fitness\n",
    "        global_best_particle_position = []\n",
    "\n",
    "        swarm_particle = []\n",
    "        for i in range(particle_size):\n",
    "            swarm_particle.append(Particle(bounds))\n",
    "\n",
    "        A = []\n",
    "        for i in range(iterations):\n",
    "            for j in range(particle_size):\n",
    "                swarm_particle[j].evaluate(objective_function)\n",
    "\n",
    "                if mm == -1:\n",
    "                    if swarm_particle[j].fitness_particle_position < fitness_global_best_particle_position:\n",
    "                        global_best_particle_position = list(swarm_particle[j].particle_position)\n",
    "                        fitness_global_best_particle_position = float(swarm_particle[j].fitness_particle_position)\n",
    "                if mm == 1:\n",
    "                    if swarm_particle[j].fitness_particle_position > fitness_global_best_particle_position:\n",
    "                        global_best_particle_position = list(swarm_particle[j].particle_position)\n",
    "                        fitness_global_best_particle_position = float(swarm_particle[j].fitness_particle_position)\n",
    "\n",
    "            for j in range(particle_size):\n",
    "                swarm_particle[j].update_velocity(global_best_particle_position)\n",
    "                swarm_particle[j].update_position(bounds)\n",
    "\n",
    "            A.append(fitness_global_best_particle_position) # Guardamos el mejor fitness\n",
    "\n",
    "        print('Optimal solution:', global_best_particle_position)\n",
    "        print('Objective function value:', fitness_global_best_particle_position)\n",
    "        print('Evolutionary process of the objective function value:')\n",
    "        plt.plot(A)\n",
    "\n",
    "if mm == -1:\n",
    "    initial_fitness = float(\"inf\") # Para problema de minimización\n",
    "if mm == 1:\n",
    "    initial_fitness = -float(\"inf\") # Para problema de maximización"
   ]
  },
  {
   "cell_type": "code",
   "execution_count": 6,
   "metadata": {},
   "outputs": [
    {
     "name": "stdout",
     "output_type": "stream",
     "text": [
      "Optimal solution: [-4, 1.0547896897694642e-05]\n",
      "Objective function value: -63.99999999988874\n",
      "Evolutionary process of the objective function value:\n"
     ]
    },
    {
     "data": {
      "text/plain": [
       "<__main__.PSO at 0x11fc52160>"
      ]
     },
     "execution_count": 6,
     "metadata": {},
     "output_type": "execute_result"
    },
    {
     "data": {
      "image/png": "[encoded data removed]",
      "text/plain": [
       "<Figure size 432x288 with 1 Axes>"
      ]
     },
     "metadata": {
      "needs_background": "light"
     },
     "output_type": "display_data"
    }
   ],
   "source": [
    "# Ejecutamos PSO\n",
    "PSO(objective_function, bounds, particle_size, iterations)"
   ]
  },
  {
   "cell_type": "markdown",
   "metadata": {},
   "source": [
    "## Puntos para recordar\n",
    "\n",
    "+ Población: Enjambre (Swarm)\n",
    "+ Soluciones: Particulas (Particles)\n",
    "+ Valor asignado a cada particula: fitness\n",
    "+ Las particulas se mueven en el espacio de busqueda (search-space)\n",
    "+ Los movimientos de las particulas son guiados por:\n",
    "  - Conocimiento de su mejor posición en el espacio de busqueda.\n",
    "  - Conocimiento de la mejor posición del enjambre entero.\n",
    "+ Cuando mejores posiciones sean descubiertas estas guiaran los movimientos del enjambre.\n",
    "+ Iteramos hasta encontrar una solución. (No siempre se encuentra una solución)\n",
    "+ La meta es minimizar o maximizar una función de costo.\n",
    "+ Ventaja. Rapidez para converger.\n",
    "+ Desventaja. Puede quedar atrapado en un mínimo local en lugar del mínimo global.\n",
    "+ No calcula derivadas como otros optimizadores por lo que se puede utilizar para funciones no diferenciables."
   ]
  },
  {
   "cell_type": "markdown",
   "metadata": {},
   "source": [
    "### Referencias:\n",
    "\n",
    "http://ijcsi.org/papers/IJCSI-9-6-2-264-271.pdf\n",
    "\n",
    "https://www.youtube.com/watch?v=JhgDMAm-imI\n",
    "\n",
    "https://www.youtube.com/watch?v=7uZcuaUvwq0&t=134s"
   ]
  }
 ],
 "metadata": {
  "kernelspec": {
   "display_name": "Python 3",
   "language": "python",
   "name": "python3"
  },
  "language_info": {
   "codemirror_mode": {
    "name": "ipython",
    "version": 3
   },
   "file_extension": ".py",
   "mimetype": "text/x-python",
   "name": "python",
   "nbconvert_exporter": "python",
   "pygments_lexer": "ipython3",
   "version": "3.7.3"
  }
 },
 "nbformat": 4,
 "nbformat_minor": 4
}
