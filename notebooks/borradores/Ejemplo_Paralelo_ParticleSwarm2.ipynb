{
 "cells": [
  {
   "cell_type": "markdown",
   "metadata": {},
   "source": [
    "### PARTICLE SWARM EN PARALELO (Prueba para 30 fuerzas de venta)\n",
    "\n",
    "En una segunda aproximación, se procedió a implementar en paralelo el cálculo de las rutas óptimas de 30 fuerzas de venta (empleados). Dichas rutas fueron obtenidas a través del algortimo de particle swarm.\n",
    "\n",
    "En este caso, el número de procesos que se corren en paralelo corresponde al número de Cores disponibles. En línea con lo anterior, el cálculo de las rutas de los 30 empleados es distribuido entre los Cores disponibles. Particularmente la prueba que se muestra enseguida considera 4 Cores, por lo tanto correrán 4 procesos en paralelo."
   ]
  },
  {
   "cell_type": "code",
   "execution_count": 1,
   "metadata": {},
   "outputs": [],
   "source": [
    "import dask\n",
    "import time\n",
    "import pandas as pd\n",
    "import particle_swarm as ps"
   ]
  },
  {
   "cell_type": "code",
   "execution_count": 2,
   "metadata": {},
   "outputs": [
    {
     "data": {
      "text/html": [
       "<table style=\"border: 2px solid white;\">\n",
       "<tr>\n",
       "<td style=\"vertical-align: top; border: 0px solid white\">\n",
       "<h3 style=\"text-align: left;\">Client</h3>\n",
       "<ul style=\"text-align: left; list-style: none; margin: 0; padding: 0;\">\n",
       "  <li><b>Scheduler: </b>tcp://127.0.0.1:39819</li>\n",
       "  <li><b>Dashboard: </b><a href='/user/dask-dask-examples-1f4xg9kz/proxy/8787/status' target='_blank'>/user/dask-dask-examples-1f4xg9kz/proxy/8787/status</a></li>\n",
       "</ul>\n",
       "</td>\n",
       "<td style=\"vertical-align: top; border: 0px solid white\">\n",
       "<h3 style=\"text-align: left;\">Cluster</h3>\n",
       "<ul style=\"text-align: left; list-style:none; margin: 0; padding: 0;\">\n",
       "  <li><b>Workers: </b>1</li>\n",
       "  <li><b>Cores: </b>4</li>\n",
       "  <li><b>Memory: </b>2.15 GB</li>\n",
       "</ul>\n",
       "</td>\n",
       "</tr>\n",
       "</table>"
      ],
      "text/plain": [
       "<Client: 'tcp://127.0.0.1:39819' processes=1 threads=4, memory=2.15 GB>"
      ]
     },
     "execution_count": 2,
     "metadata": {},
     "output_type": "execute_result"
    }
   ],
   "source": [
    "from dask.distributed import Client, progress\n",
    "client = Client(threads_per_worker=4, n_workers=1)\n",
    "client"
   ]
  },
  {
   "cell_type": "markdown",
   "metadata": {},
   "source": [
    "#### Definición de Funciones"
   ]
  },
  {
   "cell_type": "code",
   "execution_count": 3,
   "metadata": {},
   "outputs": [],
   "source": [
    "def Crear_listas_empleados(lista_empleados,num_cores):\n",
    "    '''\n",
    "    Función que crea tantas listas como Cores se tengan disponibles y distribuye a las fuerzas de venta entre dichas listas.\n",
    "    \n",
    "    Args:\n",
    "        lista_empleados(list): lista con los id's de todos los empleados (fuerzas de venta)\n",
    "        num_cores(int): número de cores con los que cuenta el sistema\n",
    "    Return:\n",
    "        lista_total(list): lista formada a su vez por listas (igual al número de cores); tal que cada lista contiene un determinado número de empleados. \n",
    "    '''\n",
    "    num_empleados = len(lista_empleados)\n",
    "    residuo_empleados = num_empleados - num_cores\n",
    "    lista_total = []\n",
    "    \n",
    "    \n",
    "    # Creación de tantas listas como número de cores y primer llenado de estas listas\n",
    "    for core in range(0,num_cores):\n",
    "        lista_total.append([lista_empleados[core]])\n",
    "     \n",
    "    # Acomodar en las listas el resto de empleados\n",
    "    for empleado in range(num_cores,num_empleados):\n",
    "        posicion_lista_total = empleado%num_cores\n",
    "        lista_total[posicion_lista_total].append(lista_empleados[empleado])\n",
    "    \n",
    "    return lista_total"
   ]
  },
  {
   "cell_type": "code",
   "execution_count": 4,
   "metadata": {},
   "outputs": [],
   "source": [
    "#@dask.delayed\n",
    "def ejecucion_algoritmo(lst_empleados):\n",
    "    '''\n",
    "    Función que ejecuta el algoritmo particle swarm.\n",
    "    \n",
    "    Args:\n",
    "        lst_empleados(list): lista formada por uno o más empleados (fuerza de venta)\n",
    "    Return:\n",
    "        0(int): 0 al finalizar la ejecución del algoritmo de particle swarm\n",
    "    '''\n",
    "    for empleado in lst_empleados:\n",
    "        # grafo completo\n",
    "        grafo = df_data\n",
    "        \n",
    "        # hiperparámetros de particle swarm\n",
    "        dict_Hiper = {'Iteraciones': 10,\n",
    "              'Particulas': 10,\n",
    "              'Alfa': .9,\n",
    "              'Beta': 1\n",
    "              }\n",
    "        \n",
    "        # Se instancia el objeto\n",
    "        PS = ps.ParticleSwarm(grafo,dict_Hiper)\n",
    "        \n",
    "        # Ejecución de Particle Swarm\n",
    "        PS.Ejecutar()\n",
    "        #time.sleep(1)\n",
    "    return 0"
   ]
  },
  {
   "cell_type": "code",
   "execution_count": 5,
   "metadata": {},
   "outputs": [],
   "source": [
    "@dask.delayed\n",
    "def ejecucion_paralelo(lst_empleados):\n",
    "    '''\n",
    "    Función que a su vez prepara funciones que posteriormente serán ejecutadas en paralelo;\n",
    "    las convierte en funciones lazy, por lo que su resultado no será calculado inmediatamente, \n",
    "    si no que será almacenado como una tarea dentro de un grafo, que posteriormente será\n",
    "    ejecutado en paralelo.\n",
    "    \n",
    "    Args:\n",
    "        lst_empleados(list): lista formada por uno o más empleados (fuerza de venta)\n",
    "    Return:\n",
    "        task(): ejecución del algoritmo particle swarm como función lazy, que después será ejecutada en paralelo\n",
    "    '''\n",
    "    task = ejecucion_algoritmo(lst_empleados)\n",
    "    return task"
   ]
  },
  {
   "cell_type": "code",
   "execution_count": 6,
   "metadata": {},
   "outputs": [],
   "source": [
    "@dask.delayed\n",
    "def juntar_ejecuciones(*arg):\n",
    "    '''\n",
    "    Función que permitirá ejecutar procesos en paralelo.\n",
    "    Esta función también es considerada una función lazy\n",
    "    \n",
    "    Args:\n",
    "        *arg(list): lista formada a su vez por listas, tal que cada lista representa un proceso a correr\n",
    "    Return:\n",
    "        arg(): función lazy que es almacenada como una tarea dentro de un grafo, la cual\n",
    "                posteriomente ejecutará en paralelo tantos procesos como sublistas haya\n",
    "    '''\n",
    "    #time.sleep(1)\n",
    "    return arg"
   ]
  },
  {
   "cell_type": "markdown",
   "metadata": {},
   "source": [
    "#### Datos a utilizar\n",
    "\n",
    "Por tratarse de una prueba, se está considerando que todos los empleados tienen el mismo grafo, es decir, que todos deben visitar los mismos puntos."
   ]
  },
  {
   "cell_type": "code",
   "execution_count": 7,
   "metadata": {},
   "outputs": [
    {
     "name": "stdout",
     "output_type": "stream",
     "text": [
      "División de empleados en 4 listas: \n",
      " [[0, 4, 8, 12, 16, 20, 24, 28], [1, 5, 9, 13, 17, 21, 25, 29], [2, 6, 10, 14, 18, 22, 26, 30], [3, 7, 11, 15, 19, 23, 27, 31]]\n"
     ]
    }
   ],
   "source": [
    "#DATOS\n",
    "\n",
    "total_empleados = list(range(0,32))\n",
    "num_cores = 4\n",
    "\n",
    "# Creación de listas de empleados dependiendo del número de Cores disponibles\n",
    "lista_empl = Crear_listas_empleados(total_empleados,num_cores)\n",
    "\n",
    "\n",
    "# Definición del grafo de los empleados\n",
    "data = {'nodo_origen':  [0,0,0,0,1,1,1,2,2,3],\n",
    "        'nodo_destino':[1,2,3,4,2,3,4,3,4,4],\n",
    "        'distancia':[1,3,4,5,1,4,8,5,1,2]\n",
    "        }\n",
    "\n",
    "# Transformación del grafo en dataframe, que es el formato aceptado por el algoritmo de particle swarm\n",
    "df_data = pd.DataFrame (data, columns = ['nodo_origen','nodo_destino','distancia'])\n",
    "\n",
    "print('División de empleados en 4 listas: \\n',lista_empl)"
   ]
  },
  {
   "cell_type": "markdown",
   "metadata": {},
   "source": [
    "#### Ejecución en Paralelo"
   ]
  },
  {
   "cell_type": "code",
   "execution_count": 8,
   "metadata": {},
   "outputs": [
    {
     "name": "stdout",
     "output_type": "stream",
     "text": [
      "Funciones lazy:\n"
     ]
    },
    {
     "data": {
      "text/plain": [
       "[Delayed('ejecucion_paralelo-1d32ff2f-15f3-4e79-a67e-d9fbf594a2e0'),\n",
       " Delayed('ejecucion_paralelo-f485ee2b-d1ab-4ed7-b35d-e03060afb86d'),\n",
       " Delayed('ejecucion_paralelo-ef9f8e1b-1cca-46df-bc3a-7f5ec2fccbc5'),\n",
       " Delayed('ejecucion_paralelo-a235f881-d7fb-401f-be31-4a6b1842a216')]"
      ]
     },
     "execution_count": 8,
     "metadata": {},
     "output_type": "execute_result"
    }
   ],
   "source": [
    "# Definición de la lista en donde se almacenarán las funciones lazy que posteriormente serán ejecutadas en paralelo\n",
    "lista_ejecuciones = []\n",
    "\n",
    "# Llenado de lista_ejecuciones\n",
    "for empleados in lista_empl:\n",
    "    dask_Ejecucion = ejecucion_paralelo(empleados)\n",
    "    lista_ejecuciones.append(dask_Ejecucion)\n",
    "    \n",
    "print('Funciones lazy:')\n",
    "lista_ejecuciones"
   ]
  },
  {
   "cell_type": "markdown",
   "metadata": {},
   "source": [
    "Es importante mencionar que cada función lazy, involucra a su vez funciones lazy de 8 empleados. Es decir, deberán ejecutarse 4 funciones lazy (a las que nos referiremos como procesos) para poder obtener las rutas óptimas de los 32 empleados. Por lo tanto, al tener 4 Cores, se ejecutará 1 función lazy en cada Core."
   ]
  },
  {
   "cell_type": "code",
   "execution_count": 9,
   "metadata": {},
   "outputs": [],
   "source": [
    "# Definición de función lazy z, cuya ejecución permitirá la ejecución en paralelo de \n",
    "# las 4 funciones lazy definidas arriba\n",
    "\n",
    "z = juntar_ejecuciones(lista_ejecuciones)"
   ]
  },
  {
   "cell_type": "code",
   "execution_count": 10,
   "metadata": {},
   "outputs": [
    {
     "data": {
      "image/png": "[encoded data removed]",
      "text/plain": [
       "<IPython.core.display.Image object>"
      ]
     },
     "execution_count": 10,
     "metadata": {},
     "output_type": "execute_result"
    }
   ],
   "source": [
    "# Visualización de los procesos a ejecutarse en paralelo\n",
    "\n",
    "z.visualize()"
   ]
  },
  {
   "cell_type": "markdown",
   "metadata": {},
   "source": [
    "El diagrama anterior muestra que serán ejecutados 4 procesos en paralelo (uno en cada Core); y la ejecución de dichos procesos se logrará ejecutando únicamente la función `juntar_ejecuciones`. Esta representación ejemplifica las funciones lazy, es decir, todo está preparado para ejecutarse en paralelo; pero dicha ejecución ocurrirá hasta el momento en que el método `.compute()` sea aplicado a la función `juntar_ejecuciones`."
   ]
  },
  {
   "cell_type": "code",
   "execution_count": 11,
   "metadata": {},
   "outputs": [
    {
     "name": "stdout",
     "output_type": "stream",
     "text": [
      "CPU times: user 51.2 ms, sys: 16.6 ms, total: 67.8 ms\n",
      "Wall time: 872 ms\n"
     ]
    },
    {
     "data": {
      "text/plain": [
       "([0, 0, 0, 0],)"
      ]
     },
     "execution_count": 11,
     "metadata": {},
     "output_type": "execute_result"
    }
   ],
   "source": [
    "%%time\n",
    "\n",
    "# Cálculo de los procesos en paralelo, es decir, cálculo de las rutas óptimas para las 30 fuerzas de venta, a través de 4 procesos dividos en 4 Cores\n",
    "z.compute()"
   ]
  },
  {
   "cell_type": "markdown",
   "metadata": {},
   "source": [
    "Los 4 ceros que aparecen en la ejecución anterior son debidos al return colocado en la ejecución de la función `ejcucion_algoritmo`. Su aparición indica que los 4 procesos fueron realizados. Es decir que cada proceso calculó la ruta óptima de 8 empleados.\n"
   ]
  }
 ],
 "metadata": {
  "kernelspec": {
   "display_name": "Python 3",
   "language": "python",
   "name": "python3"
  },
  "language_info": {
   "codemirror_mode": {
    "name": "ipython",
    "version": 3
   },
   "file_extension": ".py",
   "mimetype": "text/x-python",
   "name": "python",
   "nbconvert_exporter": "python",
   "pygments_lexer": "ipython3",
   "version": "3.7.6"
  }
 },
 "nbformat": 4,
 "nbformat_minor": 4
}
