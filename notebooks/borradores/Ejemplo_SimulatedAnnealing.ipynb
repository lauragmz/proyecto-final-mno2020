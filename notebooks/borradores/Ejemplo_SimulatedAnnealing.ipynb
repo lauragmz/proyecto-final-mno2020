{
 "cells": [
  {
   "cell_type": "markdown",
   "metadata": {},
   "source": [
    "## Prueba Simulated Annealing con df_Dummy\n",
    "Ejemplo Simulated Annealing"
   ]
  },
  {
   "cell_type": "code",
   "execution_count": 1,
   "metadata": {},
   "outputs": [],
   "source": [
    "df_Dummy = [[0, 1, 1],\n",
    "            [0, 2, 3],\n",
    "            [0, 3, 4],\n",
    "            [0, 4, 5],\n",
    "            [1, 2, 1],\n",
    "            [1, 3, 4],\n",
    "            [1, 4, 8],\n",
    "            [2, 3, 5],\n",
    "            [2, 4, 1],\n",
    "            [3, 4, 2],\n",
    "            ]"
   ]
  },
  {
   "cell_type": "code",
   "execution_count": 1,
   "metadata": {},
   "outputs": [],
   "source": [
    "df_Dummy = [[0, 1, 1],\n",
    "            ]"
   ]
  },
  {
   "cell_type": "code",
   "execution_count": 2,
   "metadata": {},
   "outputs": [
    {
     "data": {
      "text/html": [
       "<div>\n",
       "<style scoped>\n",
       "    .dataframe tbody tr th:only-of-type {\n",
       "        vertical-align: middle;\n",
       "    }\n",
       "\n",
       "    .dataframe tbody tr th {\n",
       "        vertical-align: top;\n",
       "    }\n",
       "\n",
       "    .dataframe thead th {\n",
       "        text-align: right;\n",
       "    }\n",
       "</style>\n",
       "<table border=\"1\" class=\"dataframe\">\n",
       "  <thead>\n",
       "    <tr style=\"text-align: right;\">\n",
       "      <th></th>\n",
       "      <th>id_origen</th>\n",
       "      <th>id_destino</th>\n",
       "      <th>distancia</th>\n",
       "    </tr>\n",
       "  </thead>\n",
       "  <tbody>\n",
       "    <tr>\n",
       "      <th>0</th>\n",
       "      <td>0</td>\n",
       "      <td>1</td>\n",
       "      <td>1</td>\n",
       "    </tr>\n",
       "  </tbody>\n",
       "</table>\n",
       "</div>"
      ],
      "text/plain": [
       "   id_origen  id_destino  distancia\n",
       "0          0           1          1"
      ]
     },
     "execution_count": 2,
     "metadata": {},
     "output_type": "execute_result"
    }
   ],
   "source": [
    "#Generamos el dataframe de la lista dfDummy\n",
    "import pandas as pd\n",
    "import simulated_annealing3 as SA\n",
    "df = pd.DataFrame(df_Dummy,columns=['id_origen', 'id_destino', 'distancia'])\n",
    "df"
   ]
  },
  {
   "cell_type": "code",
   "execution_count": 3,
   "metadata": {},
   "outputs": [],
   "source": [
    "#Diccionario de hiperpar[ametros\n",
    "dict_Hiper = {'Tmax':25000.0 ,\n",
    "              'Tmin': 2.5,\n",
    "              'steps': 50000,\n",
    "              'updates': 100\n",
    "              }"
   ]
  },
  {
   "cell_type": "code",
   "execution_count": 4,
   "metadata": {},
   "outputs": [],
   "source": [
    "#Se istancia el objeto\n",
    "obj_SA=SA.SimulatedAnnealing(df, dict_Hiper)\n",
    "\n",
    "#Se ejecuta \n",
    "obj_SA.Ejecutar()"
   ]
  },
  {
   "cell_type": "code",
   "execution_count": 5,
   "metadata": {},
   "outputs": [
    {
     "name": "stdout",
     "output_type": "stream",
     "text": [
      "Tiempo de ejecución:  7.939338684082031e-05\n",
      "Mejor distancia encontrada:  2\n",
      "Mejor Camino:  [1, 0]\n"
     ]
    }
   ],
   "source": [
    "#Resultados del algoritmo\n",
    "print('Tiempo de ejecución: ',obj_SA.nbr_TiempoEjec)\n",
    "print('Mejor distancia encontrada: ',obj_SA.nbr_MejorCosto)\n",
    "print('Mejor Camino: ',obj_SA.nbr_MejorCamino)"
   ]
  },
  {
   "cell_type": "code",
   "execution_count": null,
   "metadata": {},
   "outputs": [],
   "source": []
  }
 ],
 "metadata": {
  "kernelspec": {
   "display_name": "Python 3",
   "language": "python",
   "name": "python3"
  },
  "language_info": {
   "codemirror_mode": {
    "name": "ipython",
    "version": 3
   },
   "file_extension": ".py",
   "mimetype": "text/x-python",
   "name": "python",
   "nbconvert_exporter": "python",
   "pygments_lexer": "ipython3",
   "version": "3.7.4"
  }
 },
 "nbformat": 4,
 "nbformat_minor": 4
}
