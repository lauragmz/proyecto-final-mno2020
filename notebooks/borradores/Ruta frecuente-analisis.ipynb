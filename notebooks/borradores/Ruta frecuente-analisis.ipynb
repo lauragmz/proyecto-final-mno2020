{
 "cells": [
  {
   "cell_type": "markdown",
   "metadata": {},
   "source": [
    "### Pasar de la base de datos a diccionario"
   ]
  },
  {
   "cell_type": "code",
   "execution_count": 1,
   "metadata": {},
   "outputs": [],
   "source": [
    "# Preparación de ambiente\n",
    "import pandas as pd\n",
    "import numpy as np"
   ]
  },
  {
   "cell_type": "code",
   "execution_count": 2,
   "metadata": {},
   "outputs": [],
   "source": [
    "# Funciones útiles\n",
    "\n",
    "def convert(ruta): \n",
    "    s = [str(i) for i in ruta] \n",
    "    ruta_c = \"-\".join(s)\n",
    "    return(ruta_c) "
   ]
  },
  {
   "cell_type": "code",
   "execution_count": 3,
   "metadata": {},
   "outputs": [],
   "source": [
    "#Cargamos el csv con los datos\n",
    "df = pd.read_csv(\"C:/Users/anabc/Documents/MCD/Primavera2020/MNO/Proyecto final/base.csv\", sep = ',',encoding='latin-1')"
   ]
  },
  {
   "cell_type": "code",
   "execution_count": 4,
   "metadata": {},
   "outputs": [],
   "source": [
    "#Creación de función que genera el diccionario necesario para ingresar al algoritmo\n",
    "def diccionario_lugares(df,fv):\n",
    "    \"\"\"\n",
    "    Función para generar un diccinario con los lugares que visita una fuerza de venta.\n",
    "    Args:\n",
    "        df (dataFrame): DataFrame con la base de datos\n",
    "        fv (int): Fuerza de venta del que queremos generar el diccionario.\n",
    "    Returns:\n",
    "        lugares(diccionario): incluye los puntos que debe visitar con sus coordenas. \n",
    "    \"\"\"\n",
    "    df2 = df[(df.fza_ventas == fv)]\n",
    "    df2['lugar'] = range(1, len(df2) + 1)\n",
    "    df2 = df2.append({'lugar' : 'base' , 'lat_destino' : df2.iloc[0]['lat_origen'],'lon_destino': df2.iloc[0]['lon_origen'] } , ignore_index=True)\n",
    "    df3 = df2[['lugar','lat_destino','lon_destino']].copy()\n",
    "    lugares = {a:(b,c)for a, b, c in df3.values}\n",
    "    return lugares"
   ]
  },
  {
   "cell_type": "code",
   "execution_count": 5,
   "metadata": {},
   "outputs": [
    {
     "name": "stderr",
     "output_type": "stream",
     "text": [
      "C:\\Users\\anabc\\Anaconda3\\lib\\site-packages\\ipykernel_launcher.py:12: SettingWithCopyWarning: \n",
      "A value is trying to be set on a copy of a slice from a DataFrame.\n",
      "Try using .loc[row_indexer,col_indexer] = value instead\n",
      "\n",
      "See the caveats in the documentation: http://pandas.pydata.org/pandas-docs/stable/indexing.html#indexing-view-versus-copy\n",
      "  if sys.path[0] == '':\n"
     ]
    }
   ],
   "source": [
    "lugares = diccionario_lugares(df,37831)\n",
    "#Podemos probar con estas fuerza de venta:\n",
    "# 94459- 6 lugares, Nuevo león\n",
    "# 37831- 30 lugares, Jalisco\n",
    "#  14738- 58 lugares, Ciudad de México"
   ]
  },
  {
   "cell_type": "code",
   "execution_count": 6,
   "metadata": {},
   "outputs": [
    {
     "data": {
      "text/plain": [
       "{1: (20.62551262, -103.24522409999999),\n",
       " 2: (20.65018692, -103.2510411),\n",
       " 3: (20.64372595, -103.2586353),\n",
       " 4: (20.6418104, -103.2531518),\n",
       " 5: (20.64292562, -103.2578913),\n",
       " 6: (20.63051004, -103.2380119),\n",
       " 7: (20.64218265, -103.25934709999999),\n",
       " 8: (20.63266408, -103.2381703),\n",
       " 9: (20.64439137, -103.2572509),\n",
       " 10: (20.63804861, -103.25327349999999),\n",
       " 11: (20.6460634, -103.25557590000001),\n",
       " 12: (20.63940575, -103.251649),\n",
       " 13: (20.64415206, -103.2600525),\n",
       " 14: (20.65085489, -103.2606445),\n",
       " 15: (20.65402474, -103.2486538),\n",
       " 16: (20.62628748, -103.2411493),\n",
       " 17: (20.62493633, -103.2409954),\n",
       " 18: (20.64405982, -103.2600511),\n",
       " 19: (20.63013192, -103.2473277),\n",
       " 20: (20.643171600000002, -103.2589052),\n",
       " 21: (20.65030358, -103.2495603),\n",
       " 22: (20.64295605, -103.2607988),\n",
       " 23: (20.64901914, -103.2545472),\n",
       " 24: (20.64575059, -103.258185),\n",
       " 25: (20.65061432, -103.25527240000001),\n",
       " 26: (20.64413261, -103.26007690000002),\n",
       " 27: (20.63809316, -103.2532913),\n",
       " 28: (20.62666999, -103.2432105),\n",
       " 29: (20.67257856, -103.25235179999999),\n",
       " 30: (20.64342592, -103.2594615),\n",
       " 'base': (20.790642000000002, -102.773827)}"
      ]
     },
     "execution_count": 6,
     "metadata": {},
     "output_type": "execute_result"
    }
   ],
   "source": [
    "lugares"
   ]
  },
  {
   "cell_type": "code",
   "execution_count": 7,
   "metadata": {},
   "outputs": [],
   "source": [
    "import math\n",
    "import random\n",
    "\n",
    "from pycsa import CoupledAnnealer\n",
    "\n",
    "try:\n",
    "    xrange\n",
    "except NameError:\n",
    "    xrange = range"
   ]
  },
  {
   "cell_type": "code",
   "execution_count": 8,
   "metadata": {},
   "outputs": [],
   "source": [
    "def distance(a, b):\n",
    "    \"\"\"\n",
    "    Helper function to calculate the distance between two \n",
    "    latitude-longitude coordinates.\n",
    "    \"\"\"\n",
    "    R = 6371  # radius of Earth (miles)\n",
    "    lat1, lon1 = math.radians(a[0]), math.radians(a[1])\n",
    "    lat2, lon2 = math.radians(b[0]), math.radians(b[1])\n",
    "    return math.acos(math.sin(lat1) * math.sin(lat2) +\n",
    "                     math.cos(lat1) * math.cos(lat2) * \n",
    "                     math.cos(lon1 - lon2)) * R\n",
    "\n",
    "# Create the distance matrix between the cities.\n",
    "distance_matrix = {}\n",
    "for ka, va in lugares.items():\n",
    "    distance_matrix[ka] = {}\n",
    "    for kb, vb in lugares.items():\n",
    "        if kb == ka:\n",
    "            distance_matrix[ka][kb] = 0.0\n",
    "        else:\n",
    "            distance_matrix[ka][kb] = distance(va, vb)"
   ]
  },
  {
   "cell_type": "code",
   "execution_count": 9,
   "metadata": {},
   "outputs": [],
   "source": [
    "def probe(positions, tgen):\n",
    "    \"\"\"\n",
    "    Swap two cities in the route.\n",
    "    \n",
    "    Note that `tgen` (the generation temperature) is ignored here.\n",
    "    In general, you can use `tgen` to adjust the variance of\n",
    "    the probing jumps as the algorithm progress.\n",
    "    \"\"\"\n",
    "    a = random.randint(0, len(positions) - 1)\n",
    "    b = random.randint(0, len(positions) - 1)\n",
    "    positions[a], positions[b] = positions[b], positions[a]\n",
    "    return positions\n",
    "\n",
    "\n",
    "def target(positions):\n",
    "    \"\"\"\n",
    "    Calculates the length of the route.\n",
    "    \"\"\"\n",
    "    e = 0\n",
    "    for i in xrange(len(positions)):\n",
    "        e += distance_matrix[positions[i-1]][positions[i]]\n",
    "    return e\n",
    "\n"
   ]
  },
  {
   "cell_type": "code",
   "execution_count": 10,
   "metadata": {},
   "outputs": [],
   "source": [
    "rutas = pd.DataFrame(index=range(100),columns=['km', 'ruta'])"
   ]
  },
  {
   "cell_type": "code",
   "execution_count": 11,
   "metadata": {},
   "outputs": [],
   "source": [
    "for i in range(100):\n",
    "    n_annealers = 10  # definir el número de CoupledAnnealers\n",
    "    init_state = list(lugares.keys())\n",
    "    random.shuffle(init_state)\n",
    "\n",
    "# Inicia el proceso CoupledAnnealer\n",
    "    annealer = CoupledAnnealer(\n",
    "    target, \n",
    "    probe, \n",
    "    initial_state=[init_state] * n_annealers,\n",
    "    steps=1000,  \n",
    "    processes=1,   # El parámetro se modifica dependiendo de la función objetivo\n",
    "    n_annealers=n_annealers,\n",
    "    tacc_initial=1000.0,\n",
    "    verbose=0)\n",
    "\n",
    "# Inicialización\n",
    "    annealer.anneal()\n",
    "# Se obtiene el mejor resultado\n",
    "    energy, state = annealer.get_best()\n",
    "\n",
    "# El ciclo se detiene hasta que el punto es base\n",
    "    while state[0] != 'base':\n",
    "        state = state[1:] + state[:1]\n",
    "    #print()\n",
    "    #print(\"%i km route:\" % energy)\n",
    "    #for city in state:\n",
    "    #    print(\"\\t\", city)\n",
    "        \n",
    "# Creación de dataframe con rutas\n",
    "    rutas.km[i] = energy\n",
    "    ruta = state[1:]\n",
    "    ruta = convert(ruta)\n",
    "    rutas.ruta[i] = ruta"
   ]
  },
  {
   "cell_type": "code",
   "execution_count": 12,
   "metadata": {},
   "outputs": [
    {
     "data": {
      "text/html": [
       "<div>\n",
       "<style scoped>\n",
       "    .dataframe tbody tr th:only-of-type {\n",
       "        vertical-align: middle;\n",
       "    }\n",
       "\n",
       "    .dataframe tbody tr th {\n",
       "        vertical-align: top;\n",
       "    }\n",
       "\n",
       "    .dataframe thead th {\n",
       "        text-align: right;\n",
       "    }\n",
       "</style>\n",
       "<table border=\"1\" class=\"dataframe\">\n",
       "  <thead>\n",
       "    <tr style=\"text-align: right;\">\n",
       "      <th></th>\n",
       "      <th>km</th>\n",
       "      <th>ruta</th>\n",
       "    </tr>\n",
       "  </thead>\n",
       "  <tbody>\n",
       "    <tr>\n",
       "      <th>0</th>\n",
       "      <td>132.481</td>\n",
       "      <td>20-17-25-3-29-2-22-1-4-11-8-9-10-7-23-16-5-18-...</td>\n",
       "    </tr>\n",
       "    <tr>\n",
       "      <th>1</th>\n",
       "      <td>134.63</td>\n",
       "      <td>23-3-29-28-17-14-25-10-7-27-26-24-8-30-21-11-9...</td>\n",
       "    </tr>\n",
       "    <tr>\n",
       "      <th>2</th>\n",
       "      <td>134.526</td>\n",
       "      <td>25-27-29-15-21-4-23-8-20-30-9-1-16-2-10-3-5-26...</td>\n",
       "    </tr>\n",
       "    <tr>\n",
       "      <th>3</th>\n",
       "      <td>134.99</td>\n",
       "      <td>11-20-18-6-1-10-17-13-9-7-14-23-30-16-24-8-19-...</td>\n",
       "    </tr>\n",
       "    <tr>\n",
       "      <th>4</th>\n",
       "      <td>135.32</td>\n",
       "      <td>27-16-19-7-30-20-6-29-8-13-15-26-1-5-25-21-10-...</td>\n",
       "    </tr>\n",
       "  </tbody>\n",
       "</table>\n",
       "</div>"
      ],
      "text/plain": [
       "        km                                               ruta\n",
       "0  132.481  20-17-25-3-29-2-22-1-4-11-8-9-10-7-23-16-5-18-...\n",
       "1   134.63  23-3-29-28-17-14-25-10-7-27-26-24-8-30-21-11-9...\n",
       "2  134.526  25-27-29-15-21-4-23-8-20-30-9-1-16-2-10-3-5-26...\n",
       "3   134.99  11-20-18-6-1-10-17-13-9-7-14-23-30-16-24-8-19-...\n",
       "4   135.32  27-16-19-7-30-20-6-29-8-13-15-26-1-5-25-21-10-..."
      ]
     },
     "execution_count": 12,
     "metadata": {},
     "output_type": "execute_result"
    }
   ],
   "source": [
    "rutas.head()"
   ]
  },
  {
   "cell_type": "code",
   "execution_count": 13,
   "metadata": {},
   "outputs": [],
   "source": [
    "rutas['km']=rutas['km'].astype(float)"
   ]
  },
  {
   "cell_type": "markdown",
   "metadata": {},
   "source": [
    "#### Análisis de las rutas\n",
    "\n",
    "El algoritmo se ejecutó 100 y como se observa a continuación, ninguna ruta presentó la máxima frecuencia. "
   ]
  },
  {
   "cell_type": "code",
   "execution_count": 14,
   "metadata": {},
   "outputs": [
    {
     "data": {
      "text/html": [
       "<div>\n",
       "<style scoped>\n",
       "    .dataframe tbody tr th:only-of-type {\n",
       "        vertical-align: middle;\n",
       "    }\n",
       "\n",
       "    .dataframe tbody tr th {\n",
       "        vertical-align: top;\n",
       "    }\n",
       "\n",
       "    .dataframe thead th {\n",
       "        text-align: right;\n",
       "    }\n",
       "</style>\n",
       "<table border=\"1\" class=\"dataframe\">\n",
       "  <thead>\n",
       "    <tr style=\"text-align: right;\">\n",
       "      <th></th>\n",
       "      <th>km</th>\n",
       "    </tr>\n",
       "  </thead>\n",
       "  <tbody>\n",
       "    <tr>\n",
       "      <th>count</th>\n",
       "      <td>100.000000</td>\n",
       "    </tr>\n",
       "    <tr>\n",
       "      <th>mean</th>\n",
       "      <td>134.431833</td>\n",
       "    </tr>\n",
       "    <tr>\n",
       "      <th>std</th>\n",
       "      <td>1.507349</td>\n",
       "    </tr>\n",
       "    <tr>\n",
       "      <th>min</th>\n",
       "      <td>130.838319</td>\n",
       "    </tr>\n",
       "    <tr>\n",
       "      <th>25%</th>\n",
       "      <td>133.384359</td>\n",
       "    </tr>\n",
       "    <tr>\n",
       "      <th>50%</th>\n",
       "      <td>134.487438</td>\n",
       "    </tr>\n",
       "    <tr>\n",
       "      <th>75%</th>\n",
       "      <td>135.457568</td>\n",
       "    </tr>\n",
       "    <tr>\n",
       "      <th>max</th>\n",
       "      <td>137.631491</td>\n",
       "    </tr>\n",
       "  </tbody>\n",
       "</table>\n",
       "</div>"
      ],
      "text/plain": [
       "               km\n",
       "count  100.000000\n",
       "mean   134.431833\n",
       "std      1.507349\n",
       "min    130.838319\n",
       "25%    133.384359\n",
       "50%    134.487438\n",
       "75%    135.457568\n",
       "max    137.631491"
      ]
     },
     "execution_count": 14,
     "metadata": {},
     "output_type": "execute_result"
    }
   ],
   "source": [
    "rutas.describe()"
   ]
  },
  {
   "cell_type": "code",
   "execution_count": 19,
   "metadata": {},
   "outputs": [
    {
     "data": {
      "text/plain": [
       "Text(0.5,0,'KM')"
      ]
     },
     "execution_count": 19,
     "metadata": {},
     "output_type": "execute_result"
    },
    {
     "data": {
      "image/png": "[encoded data removed]",
      "text/plain": [
       "<Figure size 432x288 with 1 Axes>"
      ]
     },
     "metadata": {},
     "output_type": "display_data"
    }
   ],
   "source": [
    "import seaborn as sns\n",
    "import matplotlib.pyplot as plt\n",
    "sns.distplot(rutas.km, color=\"steelblue\")\n",
    "plt.title('Distribución de la distancia, 100 simulaciones')\n",
    "plt.xlabel('KM', fontsize=10)"
   ]
  },
  {
   "cell_type": "code",
   "execution_count": 20,
   "metadata": {},
   "outputs": [
    {
     "data": {
      "text/html": [
       "<div>\n",
       "<style scoped>\n",
       "    .dataframe tbody tr th:only-of-type {\n",
       "        vertical-align: middle;\n",
       "    }\n",
       "\n",
       "    .dataframe tbody tr th {\n",
       "        vertical-align: top;\n",
       "    }\n",
       "\n",
       "    .dataframe thead th {\n",
       "        text-align: right;\n",
       "    }\n",
       "</style>\n",
       "<table border=\"1\" class=\"dataframe\">\n",
       "  <thead>\n",
       "    <tr style=\"text-align: right;\">\n",
       "      <th></th>\n",
       "      <th>Count</th>\n",
       "    </tr>\n",
       "  </thead>\n",
       "  <tbody>\n",
       "    <tr>\n",
       "      <th>count</th>\n",
       "      <td>100.0</td>\n",
       "    </tr>\n",
       "    <tr>\n",
       "      <th>mean</th>\n",
       "      <td>1.0</td>\n",
       "    </tr>\n",
       "    <tr>\n",
       "      <th>std</th>\n",
       "      <td>0.0</td>\n",
       "    </tr>\n",
       "    <tr>\n",
       "      <th>min</th>\n",
       "      <td>1.0</td>\n",
       "    </tr>\n",
       "    <tr>\n",
       "      <th>25%</th>\n",
       "      <td>1.0</td>\n",
       "    </tr>\n",
       "    <tr>\n",
       "      <th>50%</th>\n",
       "      <td>1.0</td>\n",
       "    </tr>\n",
       "    <tr>\n",
       "      <th>75%</th>\n",
       "      <td>1.0</td>\n",
       "    </tr>\n",
       "    <tr>\n",
       "      <th>max</th>\n",
       "      <td>1.0</td>\n",
       "    </tr>\n",
       "  </tbody>\n",
       "</table>\n",
       "</div>"
      ],
      "text/plain": [
       "       Count\n",
       "count  100.0\n",
       "mean     1.0\n",
       "std      0.0\n",
       "min      1.0\n",
       "25%      1.0\n",
       "50%      1.0\n",
       "75%      1.0\n",
       "max      1.0"
      ]
     },
     "execution_count": 20,
     "metadata": {},
     "output_type": "execute_result"
    }
   ],
   "source": [
    "resumen = rutas.groupby('ruta').size().reset_index(name='Count').rename(columns={'Col1':'Col_value'})\n",
    "resumen.describe()"
   ]
  }
 ],
 "metadata": {
  "kernelspec": {
   "display_name": "Python 3",
   "language": "python",
   "name": "python3"
  },
  "language_info": {
   "codemirror_mode": {
    "name": "ipython",
    "version": 3
   },
   "file_extension": ".py",
   "mimetype": "text/x-python",
   "name": "python",
   "nbconvert_exporter": "python",
   "pygments_lexer": "ipython3",
   "version": "3.6.5"
  }
 },
 "nbformat": 4,
 "nbformat_minor": 4
}
